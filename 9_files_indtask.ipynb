{
 "cells": [
  {
   "cell_type": "markdown",
   "metadata": {},
   "source": [
    "## Індивідуальне завдання №1 \n",
    "\n",
    "Прийняти участь в команді\n",
    "KNU_HashFunc"
   ]
  },
  {
   "cell_type": "markdown",
   "metadata": {},
   "source": [
    "## Індивідуальне завдання №2\n",
    "\n",
    "Виконати завдання 1 і 2 лекції №8.\n",
    "\n",
    "1.Створити метод переводу студента на наступний курс навчання. Студент розпочинає навчання з 1-го курсу\n",
    "\n",
    "2.Після 5 років навчання видати інформацію про завершення навчання в університеті"
   ]
  },
  {
   "cell_type": "code",
   "execution_count": 1,
   "metadata": {},
   "outputs": [],
   "source": [
    "class Student():\n",
    "    courses = [\"СППР\", \"ІТ\", \"Бази даних\"]\n",
    "    age = 20\n",
    "    range = \"A\"\n",
    "    year = 1\n",
    "\n",
    "    def have_a_birthday(self):\n",
    "        \"\"\"Метод, який збільшує вік екземпляру класу\"\"\"\n",
    "        self.age += 1\n",
    "        \n",
    "    def advance_year(self):\n",
    "        if self.year == 4:\n",
    "            print(\"Навчання завершено!\")\n",
    "            return\n",
    "        self.year += 1"
   ]
  },
  {
   "cell_type": "code",
   "execution_count": 2,
   "metadata": {},
   "outputs": [
    {
     "name": "stdout",
     "output_type": "stream",
     "text": [
      "1\n",
      "2\n",
      "3\n",
      "4\n",
      "Навчання завершено!\n",
      "4\n",
      "Навчання завершено!\n"
     ]
    }
   ],
   "source": [
    "volodymyr = Student()\n",
    "print(volodymyr.year)\n",
    "volodymyr.advance_year()\n",
    "print(volodymyr.year)\n",
    "volodymyr.advance_year()\n",
    "print(volodymyr.year)\n",
    "volodymyr.advance_year()\n",
    "print(volodymyr.year)\n",
    "volodymyr.advance_year()\n",
    "print(volodymyr.year)\n",
    "volodymyr.advance_year()"
   ]
  },
  {
   "cell_type": "markdown",
   "metadata": {},
   "source": [
    "## Індивідуальне завдання №3\n",
    "\n",
    "Виконати завдання 1 і 5 лекції №9.\n",
    "\n",
    "1. Cтворити клас (будь-якої предметної галузі). Визначити 4 методи у створеному класі.\n",
    "\n",
    "2. Застосувати визначені методи до 3-х різних екземплярів класу. Провести інтерпретацію.\n",
    "\n",
    "3. Створити один базовий клас з 3-ма власними методами.\n",
    "\n",
    "4. Створити успадкований клас з 2-ма іншими методами (ніж у базовому класі) на основі базового класу\n",
    "\n",
    "5. Створити 2 екземпляри успадкованого класу. Застосувати до цих екземплярів: 1 метод базового класу і 1 метод успадкованого класу. Методи базового і успадкованого класу повинні бути різними для різних екземплярів класу. \n",
    "\n",
    "Провести гейміфіковану інтерпретацію виконання коду. \n",
    "\n"
   ]
  },
  {
   "cell_type": "code",
   "execution_count": 3,
   "metadata": {},
   "outputs": [],
   "source": [
    "# Завдання 1\n",
    "class Message:\n",
    "    def __init__(self, time, author, content):\n",
    "        self.time = time\n",
    "        self.author = author\n",
    "        self.content = content\n",
    "\n",
    "    def __str__(self):\n",
    "        return \"[{}] {}: {}\".format(self.time, self.author, self.content)\n",
    "\n",
    "    def __len__(self):\n",
    "        return len(self.content)\n",
    "\n",
    "    def __del__(self):\n",
    "        print(\"Message has been deleted\")"
   ]
  },
  {
   "cell_type": "code",
   "execution_count": 4,
   "metadata": {},
   "outputs": [
    {
     "name": "stdout",
     "output_type": "stream",
     "text": [
      "[2021-02-02 12:24:14.341336] Mark Lutz: Hello World!\n",
      "12\n",
      "Message has been deleted\n"
     ]
    },
    {
     "ename": "NameError",
     "evalue": "name 'x' is not defined",
     "output_type": "error",
     "traceback": [
      "\u001b[0;31m---------------------------------------------------------------------------\u001b[0m",
      "\u001b[0;31mNameError\u001b[0m                                 Traceback (most recent call last)",
      "\u001b[0;32m<ipython-input-4-5bd09381a2db>\u001b[0m in \u001b[0;36m<module>\u001b[0;34m\u001b[0m\n\u001b[1;32m      8\u001b[0m \u001b[0;34m\u001b[0m\u001b[0m\n\u001b[1;32m      9\u001b[0m \u001b[0;31m# Прогнозований результат\u001b[0m\u001b[0;34m\u001b[0m\u001b[0;34m\u001b[0m\u001b[0;34m\u001b[0m\u001b[0m\n\u001b[0;32m---> 10\u001b[0;31m \u001b[0mprint\u001b[0m\u001b[0;34m(\u001b[0m\u001b[0mx\u001b[0m\u001b[0;34m)\u001b[0m\u001b[0;34m\u001b[0m\u001b[0;34m\u001b[0m\u001b[0m\n\u001b[0m",
      "\u001b[0;31mNameError\u001b[0m: name 'x' is not defined"
     ]
    }
   ],
   "source": [
    "# Завдання 2\n",
    "from datetime import datetime\n",
    "\n",
    "x = Message(datetime.now(), \"Mark Lutz\", \"Hello World!\")\n",
    "print(x)\n",
    "print(len(x))\n",
    "del x\n",
    "\n",
    "# Прогнозований результат\n",
    "print(x)"
   ]
  },
  {
   "cell_type": "code",
   "execution_count": 5,
   "metadata": {},
   "outputs": [],
   "source": [
    "# Завдання 3\n",
    "class Character:\n",
    "    def __init__(self, health, x, y):\n",
    "        self.health = health\n",
    "        self.position = (x, y)\n",
    "        self.item = ''\n",
    "    \n",
    "    def give_quest(self):\n",
    "        print(\"I can give you a quest!\")\n",
    "        \n",
    "    def take_damage(self, damage_points):\n",
    "        self.health -= damage_points\n",
    "        \n",
    "    def take_item(self, item):\n",
    "        self.item = item"
   ]
  },
  {
   "cell_type": "code",
   "execution_count": 6,
   "metadata": {},
   "outputs": [],
   "source": [
    "# Завдання 4\n",
    "class PlayerCharacter(Character):\n",
    "    def __init__(self, health, x, y, player_number):\n",
    "        super().__init__(health, x, y)\n",
    "        self.player_number = player_number\n",
    "    \n",
    "    def move(self, x, y):\n",
    "        self.position = (x, y)\n",
    "        \n",
    "    def take_quest(self, quest_giver):\n",
    "        print(\"Taking quest from {}! Quest is: {}\".format(quest_giver, quest_giver.give_quest()))"
   ]
  },
  {
   "cell_type": "code",
   "execution_count": 7,
   "metadata": {},
   "outputs": [
    {
     "name": "stdout",
     "output_type": "stream",
     "text": [
      "100\n",
      "95\n",
      "(0, 0)\n",
      "(2, 2)\n",
      "I can give you a quest!\n",
      "Taking quest from <__main__.PlayerCharacter object at 0x7f49b41404e0>! Quest is: None\n",
      "\n",
      "Sword\n"
     ]
    }
   ],
   "source": [
    "# Завдання 5\n",
    "player_one = PlayerCharacter(100, 0, 0, 1)\n",
    "print(player_one.health)\n",
    "player_one.take_damage(5)\n",
    "print(player_one.health)\n",
    "\n",
    "print(player_one.position)\n",
    "player_one.move(2, 2)\n",
    "print(player_one.position)\n",
    "\n",
    "player_two = PlayerCharacter(100, 5, 5, 2)\n",
    "player_two.take_quest(player_one)\n",
    "print(player_two.item)\n",
    "player_two.take_item('Sword')\n",
    "print(player_two.item)"
   ]
  },
  {
   "cell_type": "code",
   "execution_count": null,
   "metadata": {},
   "outputs": [],
   "source": []
  }
 ],
 "metadata": {
  "kernelspec": {
   "display_name": "conda_amazonei_mxnet_p36",
   "language": "python",
   "name": "conda_amazonei_mxnet_p36"
  },
  "language_info": {
   "codemirror_mode": {
    "name": "ipython",
    "version": 3
   },
   "file_extension": ".py",
   "mimetype": "text/x-python",
   "name": "python",
   "nbconvert_exporter": "python",
   "pygments_lexer": "ipython3",
   "version": "3.6.10"
  }
 },
 "nbformat": 4,
 "nbformat_minor": 4
}
