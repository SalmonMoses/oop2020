{
 "cells": [
  {
   "cell_type": "markdown",
   "metadata": {},
   "source": [
    "# Лекція 2. Як Python інтерпретує програми "
   ]
  },
  {
   "cell_type": "markdown",
   "metadata": {},
   "source": [
    "<img src='./images/1_1_Program_run.png'></img>"
   ]
  },
  {
   "cell_type": "markdown",
   "metadata": {},
   "source": [
    "\n",
    "* **Інерпретатор python** - програма, яка виконує програми на мові Рython\n",
    "\n",
    "\n",
    "* **Ісходний програмний код** - інструкції, які у сукупності, уявляють собою програму\n",
    "\n",
    "\n",
    "* **Байт код** - низькорівневе представлення програми після її компіляції. Байт код знаходиться в файлах з розширенням .pyc\n",
    "\n",
    "\n",
    "* **PVM (Python Virtual Machine)** - механізм Python, який інтерпретує скомпільований програмний код мови Python"
   ]
  },
  {
   "cell_type": "markdown",
   "metadata": {},
   "source": [
    "**Python** це високорівнева мова програмування, що інтерпретується, інтерактивна і об'єктно-орієнтована скриптова мова програмування. \n",
    "\n",
    "Python був розроблений як мова, яка **легко читається**, в якій часто використовуються в якості ключових слів слова англійської мови.\n",
    "\n",
    "Код Python інтерпретується: вихідний код на Python НЕ компілюється в машинний код, а виконується безпосередньо за допомогою спеціальної програми-інтерпретатора.\n",
    "\n",
    "Python це інтерактивна мова програмування: Це означає, що ви можете писати код безпосередньо в оболонці інтерпретатора і вводити нові команди коду по мірі виконання попередніх команд.\n",
    "\n",
    "Python є **об'єктно-орієнтованої мовою програмування**. Python підтримує принципи ООП, які мають на увазі инкапсуляцию коду в особливі структури, іменовані об'єктами."
   ]
  },
  {
   "cell_type": "markdown",
   "metadata": {},
   "source": [
    "***"
   ]
  },
  {
   "cell_type": "markdown",
   "metadata": {},
   "source": [
    "# Лекція 2. Як запускати програми практики "
   ]
  },
  {
   "cell_type": "markdown",
   "metadata": {},
   "source": [
    "**Інтерактивна командна оболонка - AWS Sageaker Jupyter NOtebook ** \n",
    "\n",
    "Команди виконуються відразу після натиснення клавіши Enter. Це дуже добре для проведення експериментів на кодом для аналізу результату. Але, інструкції (код) програми введені під час інтерактивного сеансу **AWS Sagemaker Jupyter Notebook**  зберігаються у вашому інстансі "
   ]
  },
  {
   "cell_type": "markdown",
   "metadata": {},
   "source": [
    "**Модуль** - файл із кодом на мові Python, який може бути імпортований іншими файлами"
   ]
  },
  {
   "cell_type": "code",
   "execution_count": 6,
   "metadata": {},
   "outputs": [
    {
     "name": "stdout",
     "output_type": "stream",
     "text": [
      "win32\n",
      "Привіт світ!\n",
      "1267650600228229401496703205376\n",
      "Spam!Spam!Spam!Spam!Spam!Spam!Spam!Spam!\n"
     ]
    }
   ],
   "source": [
    "# Перший сценарій на мові Python\n",
    "import sys\n",
    "print(sys.platform)\n",
    "print(\"Привіт світ!\")\n",
    "print(2 ** 100)\n",
    "x = 'Spam!'\n",
    "print(x * 8)\n",
    "# команда, що показує шлях до інтерпретатора python"
   ]
  },
  {
   "cell_type": "markdown",
   "metadata": {},
   "source": [
    "**shebang** - перша строка в файлах в системі linux, яка вказує, де знаходиться інтерпретатор Python\n",
    "\n",
    "\n",
    "`#!/usr/local/bin/python`\n",
    "\n",
    "`#!/usr/bin/env python` - env - команда, яка сама знаходить інтерпретатор Python"
   ]
  },
  {
   "cell_type": "markdown",
   "metadata": {},
   "source": [
    "`import` - виконує завантаження другого файлу і забезпечує доступ до йог змісту \n",
    "\n",
    "**операція импорту** на заключному етапі приводить до **виконання** програмного коду файлу, завантажується (але, лише один раз. Якщо імпортувати повторно, тоді код виконуватися не буде). Якщо потрібно багатократний запуск (імпорт) модуля, тоді можна скористатися функцією `reload` із модуля `imp` стандартної бібліотеки (`from imp import reload`).\n",
    "\n",
    "Але, операція перзавантаження не є транзитивною - перезавантажується лише модуль, вказаний у виклику функції `reload`, але не перезавантажуються модулі, які він імпортує. \n",
    "\n",
    "`reload` - прймає тільки і'мя вже завантаженого модуля. \n"
   ]
  },
  {
   "cell_type": "code",
   "execution_count": 3,
   "metadata": {},
   "outputs": [
    {
     "name": "stdout",
     "output_type": "stream",
     "text": [
      "The Zen of Python, by Tim Peters\n",
      "\n",
      "Beautiful is better than ugly.\n",
      "Explicit is better than implicit.\n",
      "Simple is better than complex.\n",
      "Complex is better than complicated.\n",
      "Flat is better than nested.\n",
      "Sparse is better than dense.\n",
      "Readability counts.\n",
      "Special cases aren't special enough to break the rules.\n",
      "Although practicality beats purity.\n",
      "Errors should never pass silently.\n",
      "Unless explicitly silenced.\n",
      "In the face of ambiguity, refuse the temptation to guess.\n",
      "There should be one-- and preferably only one --obvious way to do it.\n",
      "Although that way may not be obvious at first unless you're Dutch.\n",
      "Now is better than never.\n",
      "Although never is often better than *right* now.\n",
      "If the implementation is hard to explain, it's a bad idea.\n",
      "If the implementation is easy to explain, it may be a good idea.\n",
      "Namespaces are one honking great idea -- let's do more of those!\n"
     ]
    }
   ],
   "source": [
    "# The Zen of Python\n",
    "import this"
   ]
  },
  {
   "cell_type": "markdown",
   "metadata": {},
   "source": [
    "The Zen of Python Тіма Пейтерса. Текст філософії:\n",
    "\n",
    "Гарне краще за потворне.\n",
    "\n",
    "Явне краще за неявне.\n",
    "\n",
    "Просте краще за складне.\n",
    "\n",
    "Складне краще за заплутане.\n",
    "\n",
    "Плоске краще за вкладене.\n",
    "\n",
    "Розріджене краще за щільне.\n",
    "\n",
    "Легкість читання має значення.\n",
    "\n",
    "Особливі випадки не є настільки особливими, щоб порушувати правила.\n",
    "\n",
    "Хоча практичність є важливішою за бездоганність.\n",
    "\n",
    "Помилки ніколи не повинні проходити непомітно.\n",
    "\n",
    "Якщо їх приховування не прописано явно.\n",
    "\n",
    "Зустрівши неоднозначність, опирайтесь спокусі вгадати.\n",
    "\n",
    "Має бути один — і, бажано, тільки один — очевидний спосіб зробити це.\n",
    "\n",
    "Хоча спочатку він може бути й не очевидним, якщо ви не голландець.\n",
    "\n",
    "Зараз — краще, ніж ніколи.\n",
    "\n",
    "Хоча ніколи, найчастіше, — краще, ніж просто зараз.\n",
    "\n",
    "Якщо реалізацію важко пояснити — задум поганий.\n",
    "\n",
    "Якщо реалізацію легко пояснити — можливо, задум добрий.\n",
    "\n",
    "Простори імен — чудова річ, тож робімо їх більше!"
   ]
  },
  {
   "cell_type": "code",
   "execution_count": 4,
   "metadata": {
    "scrolled": false
   },
   "outputs": [
    {
     "name": "stdout",
     "output_type": "stream",
     "text": [
      "The Zen of Python, by Tim Peters\n",
      "\n",
      "Beautiful is better than ugly.\n",
      "Explicit is better than implicit.\n",
      "Simple is better than complex.\n",
      "Complex is better than complicated.\n",
      "Flat is better than nested.\n",
      "Sparse is better than dense.\n",
      "Readability counts.\n",
      "Special cases aren't special enough to break the rules.\n",
      "Although practicality beats purity.\n",
      "Errors should never pass silently.\n",
      "Unless explicitly silenced.\n",
      "In the face of ambiguity, refuse the temptation to guess.\n",
      "There should be one-- and preferably only one --obvious way to do it.\n",
      "Although that way may not be obvious at first unless you're Dutch.\n",
      "Now is better than never.\n",
      "Although never is often better than *right* now.\n",
      "If the implementation is hard to explain, it's a bad idea.\n",
      "If the implementation is easy to explain, it may be a good idea.\n",
      "Namespaces are one honking great idea -- let's do more of those!\n"
     ]
    },
    {
     "data": {
      "text/plain": [
       "<module 'this' from 'C:\\\\Users\\\\ssylantyev\\\\anaconda3\\\\lib\\\\this.py'>"
      ]
     },
     "execution_count": 4,
     "metadata": {},
     "output_type": "execute_result"
    }
   ],
   "source": [
    "from imp import reload\n",
    "reload(this)"
   ]
  },
  {
   "cell_type": "markdown",
   "metadata": {},
   "source": [
    "Операції імпортування і перезавантаження модулів забезпечує природний спосіб запуску програми, тому що на заключному етапі цих операцій відбувається виконання файлів. При цьому, у більш широкому розумінні, модулі грають роль бібліотек інструментів.  \n",
    "\n",
    "Модуль - це, головним чином, лише пакет імен змінних, відомий як **простір імен**.\n",
    "\n",
    "Імена всередині цього пакету мають назву **атрибути**, тобто **атрибут** -  це і'мя змінної, яка зв'язана з визначеним об'єктом (таким як модуль)."
   ]
  },
  {
   "cell_type": "markdown",
   "metadata": {},
   "source": [
    "Взагалі синтаксис нотації з крапкою у вигляді, наприклад `object.attribute`дозволяє, у відповідності до принципів об'єктно-орієнтованого програмування, отримати доступ до будь-якого **атрибуту** в будь-якому об'єкті і цей принцип доступу широко використовується в програмному коді на мові Python."
   ]
  },
  {
   "cell_type": "markdown",
   "metadata": {},
   "source": [
    "`dir` - функція для отримання списку всіх імен (атрибутів), доступних всередині модуля"
   ]
  },
  {
   "cell_type": "markdown",
   "metadata": {},
   "source": [
    "Кожен файл модуля - це самостійний пакет змінних, або **простір імен (namespace)**"
   ]
  },
  {
   "cell_type": "markdown",
   "metadata": {},
   "source": [
    "Запуск модулів за допомогою функції **`exec`**\n",
    "\n",
    "`exec(open('module.py').read())`  – це ще один спосіб виконувати файли із інтерактивної оболонки **IDLE**, фактично без імпортування модуля. \n",
    "\n",
    "Кожен наступний виклик `exec` буде виконувати поточну версію файла і ліквідує необхідність пізніше виконувати перезавантаження модуля, але можлива втрата значень змінних.  \n"
   ]
  },
  {
   "cell_type": "markdown",
   "metadata": {},
   "source": [
    "## Відлагодження коду"
   ]
  },
  {
   "cell_type": "markdown",
   "metadata": {},
   "source": [
    "**`pdb`** - отладчик командного рядку, доступний у вигляді модуля із стандартної бібліотеки.\n",
    "\n",
    "При його використанні можні виконувати програмний код по рядках послідовно, із відображенням змінних, встановлювати і знищувати точки зупинення. "
   ]
  },
  {
   "cell_type": "markdown",
   "metadata": {},
   "source": [
    "## Особливості Python:\n",
    "**Легкий для навчання :** У мови програмування Python мало ключових слів, проста структура і чітко визначений синтаксис. Завдяки цьому навчитися основам мови можна за досить короткий час.\n",
    "\n",
    "**Легко читається :** Блоки коду в Python виділяються за допомогою відступів, що спільно з ключовими словами, взятими з англійської мови значно полегшують читання коду.\n",
    "\n",
    "**Легкий в обслуговуванні :** Однією з причин широкої популярності Python є простота обслуговування коду написаного на цій мові.\n",
    "\n",
    "**Широка стандартна бібліотека :** Наявність широкого спектру крос-платформених бібліотек за різними напрямками є ще однією сильною стороною цієї мови програмування.\n",
    "\n",
    "**Наявність інтерактивного режиму :** дозволяє \"на льоту\" в режимі інтерпретації тестувати потрібні частки коду\n",
    "\n",
    "**Портативність :** Python без проблем запускається на різних платформах, при цьому зберігає однаковий інтерфейс, незалежно від того на якому комп'ютері ви працюєте.\n",
    "\n",
    "**Можливість розширення :** при необхідності в Python  можна впроваджувати низькорівневі модулі написані на інших мовах програмування для найбільш гнучкого вирішення поставлених завдань.\n",
    "\n",
    "**Робота з базами даних :** в стандартній бібліотеці Python можна знайти модулі для роботи з абсолютною більшістю комерційних баз даних.\n",
    "\n",
    "**Створення GUI (Графічного інтерфейсу користувача):** на Python можливе створення GUI  додатків, які будуть працювати незалежно від типу вашої операційної системи.\n",
    "\n",
    "**Використання в хмарових платформах :** Python - скриптова мова програмування, популярність якого зростає експоненційно особливо в найпопулярніших хмарових платформах AWS, GCP, Microsoft та інших  "
   ]
  },
  {
   "cell_type": "markdown",
   "metadata": {},
   "source": [
    "<img src='./images/python2020.png'></img>"
   ]
  },
  {
   "cell_type": "markdown",
   "metadata": {},
   "source": [
    "### Вбудовані типи даних"
   ]
  },
  {
   "cell_type": "markdown",
   "metadata": {},
   "source": [
    "Навіщо потрібні вбудовані типи даних (об'єкти)?\n",
    "    • Вбудовані об'єкти спрощують створення програм. Так як рятують від необхідності реалізації структур даних.\n",
    "    \n",
    "    • Вбудовані об'єкти - це компоненти розширень. Для вирішення складних завдань ви можете створювати власні об'єкти, використовуючи для цього вбудовані класи мови Python\n",
    "    • Вбудовані об'єкти часто більш ефективні, ніж створені вручну структури даних. Вбудовані типи мови Python використовують вже оптимізовані структури даних, реалізовані на мовах низького рівня для досягнення високої продуктивності\n",
    "    • Вбудовані об'єкти - це стандартна частина мови. Певною мірою Python багато запозичує як з мов, належних на використання вбудованих інструментальних засобів (таких як SMALLTALK, LISP), так і покладаються на майстерність програміста, який повинен виконати власну реалізацію інструментів і структур даних (таких як в C ++, Java). У мові Python можна створювати власні типи об'єктів, але на самому початку робити це не рекомендується. Більш того, через те, що вбудовані компоненти є стандартними складовими мови Python, вони завжди залишаються незмінними, тоді як власні структури мають властивість змінюватися від одного застосування до іншого застосування."
   ]
  },
  {
   "cell_type": "markdown",
   "metadata": {},
   "source": [
    "Будемо розглядати наступні вбуловані типи даних:\n",
    "\n",
    "    •Числа (7382, 3.14, 3+4j, Decimal, Fraction - раціональні)\n",
    "    •Строки ('net', \"your's\", і'навчання')\n",
    "    •Списки ([1, [2, 'three'], 4])\n",
    "    •Словари ({'Alex': 2, 'Brian': 4})\n",
    "    •Кортежи ('Leo', 21.7, 'single')\n",
    "    •Множини (set(1,2,3), {'a', 'b', 'c'})\n",
    "    •Файли (open('myfile', 'r'))\n"
   ]
  },
  {
   "cell_type": "markdown",
   "metadata": {},
   "source": [
    "### Динамічна типізація"
   ]
  },
  {
   "cell_type": "markdown",
   "metadata": {},
   "source": [
    "Типи даних на мові Python визначають автоматично під час виконання, а не в результаті оголошень у програмному коді. Передумови створюються при виконанні операцій присвоювання, можуть посилатися на об'єкти будь-яких типів і вони повинні мати присвоєні деякі значення, перш ніж до них можна звернутися.\n",
    "\n",
    "• Змінні - це запис у системній таблиці, де передбачено місце для зберігання **посилань** на об'єкти.\n",
    "\n",
    "• Об'єкти - це області пам'яті з об'ємом, доступним для представлення значень цих об'єктів. Кажен об'єкт містить два стандартних поля: опис типу, що використовується для зберігання інформації про тип об'єкта, і лічильник посилань, що використовується для визначення моменту, коли пам'ять, що займає об'єкт, може бути звільнена.\n",
    "\n",
    "• Посилання - це вказівники на об'єкти."
   ]
  },
  {
   "cell_type": "markdown",
   "metadata": {},
   "source": [
    "<img src='./images/pytutor.png'></img>"
   ]
  },
  {
   "cell_type": "markdown",
   "metadata": {},
   "source": [
    "### Числа###"
   ]
  },
  {
   "cell_type": "markdown",
   "metadata": {},
   "source": [
    "**Числа в Python бувають різні:**\n",
    "\n",
    "    •Цілі числа (int): 122, -4, 99999999999, 0o177, 0x9ff, 0b101010\n",
    "    •Дійсні числа (float): 1.0, 3.14, .5, 4E21, 4.0e21 \n",
    "    •Комплексні числа (complex): 3 + 4j, 3.0 + 4.0j, \n",
    "    •Числа фіксованої точності % decimal.Decimal('0.1')\n",
    "    •Раціональні числа : fractions.Fraction(3, 4)\n"
   ]
  },
  {
   "cell_type": "markdown",
   "metadata": {},
   "source": [
    "### Операції "
   ]
  },
  {
   "cell_type": "markdown",
   "metadata": {},
   "source": [
    "<img src='./images/ariphmetichni.png'></img>"
   ]
  },
  {
   "cell_type": "markdown",
   "metadata": {},
   "source": [
    "### Цілі числа"
   ]
  },
  {
   "cell_type": "code",
   "execution_count": 9,
   "metadata": {},
   "outputs": [
    {
     "name": "stdout",
     "output_type": "stream",
     "text": [
      "11\n"
     ]
    }
   ],
   "source": [
    "print(3 + 8)"
   ]
  },
  {
   "cell_type": "code",
   "execution_count": 11,
   "metadata": {},
   "outputs": [
    {
     "name": "stdout",
     "output_type": "stream",
     "text": [
      "1\n"
     ]
    }
   ],
   "source": [
    "print(3 - 2)"
   ]
  },
  {
   "cell_type": "code",
   "execution_count": 12,
   "metadata": {},
   "outputs": [
    {
     "name": "stdout",
     "output_type": "stream",
     "text": [
      "8\n"
     ]
    }
   ],
   "source": [
    "print(4 * 2)"
   ]
  },
  {
   "cell_type": "code",
   "execution_count": 13,
   "metadata": {},
   "outputs": [
    {
     "name": "stdout",
     "output_type": "stream",
     "text": [
      "1.5\n"
     ]
    }
   ],
   "source": [
    "print(3 / 2)"
   ]
  },
  {
   "cell_type": "code",
   "execution_count": 15,
   "metadata": {},
   "outputs": [
    {
     "name": "stdout",
     "output_type": "stream",
     "text": [
      "16\n"
     ]
    }
   ],
   "source": [
    "print(4 ** 2)"
   ]
  },
  {
   "cell_type": "markdown",
   "metadata": {},
   "source": [
    "### Можна використовувати дужки для управління порядком операцій"
   ]
  },
  {
   "cell_type": "code",
   "execution_count": 18,
   "metadata": {},
   "outputs": [
    {
     "name": "stdout",
     "output_type": "stream",
     "text": [
      "14\n",
      "20\n"
     ]
    }
   ],
   "source": [
    "standard_order = 2 + 3*4\n",
    "print(standard_order)\n",
    "\n",
    "\"зміна порядку виконання операцій приводить до іншого результату\"\n",
    "my_order = (2 + 3)*4\n",
    "print(my_order)"
   ]
  },
  {
   "cell_type": "markdown",
   "metadata": {},
   "source": [
    "### Дійсні числа "
   ]
  },
  {
   "cell_type": "code",
   "execution_count": 19,
   "metadata": {},
   "outputs": [
    {
     "name": "stdout",
     "output_type": "stream",
     "text": [
      "0.9\n"
     ]
    }
   ],
   "source": [
    "print(.1 + .8)"
   ]
  },
  {
   "cell_type": "markdown",
   "metadata": {},
   "source": [
    "### Комплексні числа  "
   ]
  },
  {
   "cell_type": "code",
   "execution_count": 23,
   "metadata": {},
   "outputs": [],
   "source": [
    "a = complex(6, -8) # a = (6-8j)\n",
    "b = complex(0, 2.5) # b = 2.5j\n",
    "c = complex(0.02, -1e4) # c = (0.02-10000j)"
   ]
  },
  {
   "cell_type": "code",
   "execution_count": 31,
   "metadata": {},
   "outputs": [
    {
     "data": {
      "text/plain": [
       "(-5+10j)"
      ]
     },
     "execution_count": 31,
     "metadata": {},
     "output_type": "execute_result"
    }
   ],
   "source": [
    "(1 + 2j) * (3+4j)"
   ]
  },
  {
   "cell_type": "markdown",
   "metadata": {},
   "source": [
    "### Числа фиксированной точности и рациональные числа¶\n",
    "\n",
    "Для розвязання проблем, пов'язаних з точністю представлення простих дійсних чисел введені дійсні числа з фіксованою точністю і раціональні числа (числа представлені за допомогою дробу, тобто пари ціллих чисел - чисельником і знаменником).  "
   ]
  },
  {
   "cell_type": "code",
   "execution_count": 42,
   "metadata": {},
   "outputs": [
    {
     "name": "stdout",
     "output_type": "stream",
     "text": [
      "0.3666666666666667\n"
     ]
    },
    {
     "data": {
      "text/plain": [
       "False"
      ]
     },
     "execution_count": 42,
     "metadata": {},
     "output_type": "execute_result"
    }
   ],
   "source": [
    "print(1.1/3)\n",
    "from decimal import Decimal\n",
    "from decimal import getcontext\n",
    "getcontext().prec = 2\n",
    "Decimal('4') / 3 == Decimal('1.33')"
   ]
  },
  {
   "cell_type": "code",
   "execution_count": 45,
   "metadata": {},
   "outputs": [
    {
     "name": "stdout",
     "output_type": "stream",
     "text": [
      "0.37\n"
     ]
    }
   ],
   "source": [
    "from decimal import Decimal\n",
    "from decimal import getcontext\n",
    "getcontext().prec = 2\n",
    "print(Decimal('1.1') / 3)"
   ]
  },
  {
   "cell_type": "markdown",
   "metadata": {},
   "source": [
    "### Що зміниться в попередньому  прикладі, якщо знищити лапки? "
   ]
  },
  {
   "cell_type": "markdown",
   "metadata": {},
   "source": [
    "### Python - поняття літералу. Приклади."
   ]
  },
  {
   "cell_type": "markdown",
   "metadata": {},
   "source": [
    "    У мові програмування Python літерал – це вираз (або константа), що створює (генерує) об’єкт. Якщо в тексті програми зустрічається літерал, то для цього літералу створюється окремий об’єкт деякого типу. Тобто, система генерує відповідний код, що створює об’єкт який містить значення цього літералу. Створений об’єкт має визначений час існування."
   ]
  },
  {
   "cell_type": "code",
   "execution_count": 48,
   "metadata": {},
   "outputs": [
    {
     "data": {
      "text/plain": [
       "{'а', 'б', 'д', 'е', 'с'}"
      ]
     },
     "execution_count": 48,
     "metadata": {},
     "output_type": "execute_result"
    }
   ],
   "source": [
    "1234567890\n",
    "3.14\n",
    "1+2j\n",
    "'Привіт світ!'\n",
    "[1, 3, [2, 4, 6]]\n",
    "{ 'Sun', 'Mon', 'Tue', 'Wed' }\n",
    "set('абсде')"
   ]
  },
  {
   "cell_type": "markdown",
   "metadata": {},
   "source": [
    "### Генерування об'єкту "
   ]
  },
  {
   "cell_type": "markdown",
   "metadata": {},
   "source": [
    "У мові Python все, що використовується у програмі є об’єктом. Тобто для кожного рядка програмного коду система генерує відповідний об’єкт. Наприклад, об’єкти генеруються для:\n",
    "\n",
    "    цілого числа;\n",
    "    рядка символів;\n",
    "    списку;\n",
    "    файлу;\n",
    "    функції;\n",
    "    модуля;\n",
    "    класу;\n",
    "    інших елементів мови.\n",
    "**Кожен об’єкт має свою власну поведінку. Об’єкти створюються з допомогою інструкцій та виразів.**\n",
    "\n",
    "Мова Python містить набір власних вбудованих типів об’єктів. При використанні такого типу генерується об’єкт. Наприклад, при використанні у програмі літерала-рядка. \n",
    "\n",
    "**Для різних типів літералів генеруються РІЗНІ результати при застосуванні однакової операції**"
   ]
  },
  {
   "cell_type": "code",
   "execution_count": 49,
   "metadata": {},
   "outputs": [
    {
     "data": {
      "text/plain": [
       "2"
      ]
     },
     "execution_count": 49,
     "metadata": {},
     "output_type": "execute_result"
    }
   ],
   "source": [
    "1+1"
   ]
  },
  {
   "cell_type": "code",
   "execution_count": 50,
   "metadata": {},
   "outputs": [
    {
     "data": {
      "text/plain": [
       "'ab'"
      ]
     },
     "execution_count": 50,
     "metadata": {},
     "output_type": "execute_result"
    }
   ],
   "source": [
    "'a'+'b'"
   ]
  },
  {
   "cell_type": "markdown",
   "metadata": {},
   "source": [
    "### Приклади типів об'єктів для найбільш розповсюджених літералів "
   ]
  },
  {
   "cell_type": "markdown",
   "metadata": {},
   "source": [
    "<img src='./images/literal.png'></img>"
   ]
  },
  {
   "cell_type": "markdown",
   "metadata": {},
   "source": [
    "### Література\n",
    "https://docs.python.org/3/index.html"
   ]
  },
  {
   "cell_type": "code",
   "execution_count": null,
   "metadata": {},
   "outputs": [],
   "source": []
  }
 ],
 "metadata": {
  "kernelspec": {
   "display_name": "conda_amazonei_mxnet_p36",
   "language": "python",
   "name": "conda_amazonei_mxnet_p36"
  },
  "language_info": {
   "codemirror_mode": {
    "name": "ipython",
    "version": 3
   },
   "file_extension": ".py",
   "mimetype": "text/x-python",
   "name": "python",
   "nbconvert_exporter": "python",
   "pygments_lexer": "ipython3",
   "version": "3.6.10"
  }
 },
 "nbformat": 4,
 "nbformat_minor": 2
}
