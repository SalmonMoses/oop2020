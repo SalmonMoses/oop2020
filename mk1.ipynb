{
 "cells": [
  {
   "cell_type": "markdown",
   "metadata": {},
   "source": [
    "МК 1. Тиждень 15.03.2021 - захист"
   ]
  },
  {
   "cell_type": "markdown",
   "metadata": {},
   "source": [
    "## Завдання 1"
   ]
  },
  {
   "cell_type": "markdown",
   "metadata": {},
   "source": [
    "Створити власний банківський акаунт **MyAccount**, що повинен мати п'ять методів:  \n",
    "- ініціалізації атрибутів класу **set_account**, \n",
    "- відображення атрибутів класу **my_open_account**, \n",
    "- внесення грошей на власний банківський рахунок **put_account**\n",
    "- зняття грошей з власного банкіського акаунту  **get_account** , \n",
    "- переведення грошей з власного банківського рахунку під визначений депозитний відсоток, діючий станом на момент виконання модульного завдання -  **send_deposit** \n",
    "\n",
    "При ініціалізації атрибутів класу створити три атрибути: ім'я - **first_name**,  призвище - **second_name** власника банківського рахунку та статус банківського рахунку - **status**. Дефолтне значення власного банківського рахунку (**status**) повинно бути нульовим. \n",
    "При наданні публічної інформації про власний банківський рахунок відображати повну інформацію про власника банківського рахунку і статус банківського рахунку. \n",
    "\n",
    "Методи, які забезпечують внесення грошей на банківський рахунок, зняття грошей з банківського рахункуі, повинні мати додатковий параметр - кількість грошей - **amount_of_money** \n",
    "\n",
    "Метод переведення грошей на депозит повинен мати додаткові параметри: кількість грошей - **amount_of_money**, депозитна відсоткова ставка - **deposit_rate**, строк депозиту - **deposit_time**\n",
    "\n",
    "Створити два банківських рахунки для двох клієнтів. \n",
    "- Перевести на банківські рахунки двох клієнтів різні суми грошей. \n",
    "- Представити статус кожного із банківських акаунтів обох клієнтів. \n",
    "- На першому банківському рахунку відкрити депозит на 2,5 роки\n",
    "- На  другому банківському рахунку відкрити депозит на півроку \n",
    "- Представити статус кожного із банківських акаунтів обох клієнтів після закінчення депозитів. \n",
    "\n",
    "Для обчислення вартості депозиту використовувати діючу комерційну відсоткову депозитну ставку і чинні податки з депозитного доходу"
   ]
  },
  {
   "cell_type": "code",
   "execution_count": 19,
   "metadata": {},
   "outputs": [
    {
     "name": "stdout",
     "output_type": "stream",
     "text": [
      "Account's owner: Aa Bb. Status: 1000\n",
      "Account's owner: Cc Dd. Status: 2000\n",
      "Account's owner: Aa Bb. Status: 500\n",
      "Account's owner: Cc Dd. Status: 1500\n",
      "Account's owner: Aa Bb. Status: 542.0\n",
      "Account's owner: Cc Dd. Status: 1542.0\n"
     ]
    }
   ],
   "source": [
    "class Deposit:\n",
    "    def __init__(self, amount_of_money, deposit_rate, deposit_time):\n",
    "        self.amount_of_money = amount_of_money\n",
    "        self.deposit_rate = deposit_rate\n",
    "        self.deposit_time = deposit_time\n",
    "        \n",
    "    @property\n",
    "    def sum_on_ending(self):\n",
    "        return self.amount_of_money * self.deposit_rate * self.deposit_time\n",
    "    \n",
    "    def __str__(self):\n",
    "        return 'Rate: {}, time: {}, amount: {}, final: {}'.format(self.deposit_rate, self.deposit_time, self.amount_of_money, self.sum_on_ending)\n",
    "\n",
    "class Account:\n",
    "    last_deposit = 0\n",
    "    first_name = \"\"\n",
    "    second_name = \"\"\n",
    "    status = 0\n",
    "    deposits = dict()\n",
    "    \n",
    "    def set_account(self, first_name, second_name, status = 0):\n",
    "        self.first_name = first_name\n",
    "        self.second_name = second_name\n",
    "        self.status = status\n",
    "    \n",
    "    def my_open_account(self):\n",
    "        return \"Account's owner: {} {}. Status: {}\".format(self.first_name, self.second_name, self.status)\n",
    "    \n",
    "    def put_account(self, amount):\n",
    "        self.status += amount\n",
    "    \n",
    "    def get_account(self, amount):\n",
    "        if amount > self.status:\n",
    "            raise ValueError(\"Not enough money to get them\")\n",
    "        self.status -= amount\n",
    "    \n",
    "    def send_deposit(self, amount, deposit_rate, deposit_time):\n",
    "        self.get_account(amount)\n",
    "        self.deposits[self.last_deposit] = Deposit(amount, deposit_rate, deposit_time)\n",
    "        self.last_deposit += 1\n",
    "        return self.last_deposit - 1\n",
    "    \n",
    "    def close_deposit(self, id):\n",
    "        try:\n",
    "            self.put_account(self.deposits[id].sum_on_ending)\n",
    "        except KeyError:\n",
    "            raise ValueError(\"Invalid deposit id!\")\n",
    "            \n",
    "ab = Account()\n",
    "ab.set_account(\"Aa\", \"Bb\")\n",
    "cd = Account()\n",
    "cd.set_account(\"Cc\", \"Dd\")\n",
    "ab.put_account(1000)\n",
    "cd.put_account(2000)\n",
    "\n",
    "print(ab.my_open_account())\n",
    "print(cd.my_open_account())\n",
    "\n",
    "dep1 = ab.send_deposit(500, 0.014, 2.5 * 12)\n",
    "dep2 = cd.send_deposit(500, 0.014, 0.5 * 12)\n",
    "\n",
    "print(ab.my_open_account())\n",
    "print(cd.my_open_account())\n",
    "\n",
    "ab.close_deposit(dep1)\n",
    "cd.close_deposit(dep2)\n",
    "\n",
    "print(ab.my_open_account())\n",
    "print(cd.my_open_account())\n"
   ]
  },
  {
   "cell_type": "markdown",
   "metadata": {},
   "source": [
    "## Завдання 2"
   ]
  },
  {
   "cell_type": "markdown",
   "metadata": {},
   "source": [
    "У створеному класі ініціалізацію атрибутів класу за допомогою методу **set_account** замінити на конструктор класу"
   ]
  },
  {
   "cell_type": "code",
   "execution_count": 16,
   "metadata": {},
   "outputs": [
    {
     "name": "stdout",
     "output_type": "stream",
     "text": [
      "Account's owner: Aa Bb. Status: 1000\n",
      "Account's owner: Cc Dd. Status: 2000\n",
      "Account's owner: Aa Bb. Status: 0\n",
      "Account's owner: Cc Dd. Status: 2000\n",
      "Account's owner: Aa Bb. Status: 210.0\n",
      "Account's owner: Cc Dd. Status: 2042.0\n"
     ]
    }
   ],
   "source": [
    "class Deposit:\n",
    "    def __init__(self, amount_of_money, deposit_rate, deposit_time):\n",
    "        self.amount_of_money = amount_of_money\n",
    "        self.deposit_rate = deposit_rate\n",
    "        self.deposit_time = deposit_time\n",
    "        \n",
    "    @property\n",
    "    def sum_on_ending(self):\n",
    "        return self.amount_of_money * self.deposit_rate * self.deposit_time\n",
    "    \n",
    "    def __str__(self):\n",
    "        return 'Rate: {}, time: {}, amount: {}, final: {}'.format(self.deposit_rate, self.deposit_time, self.amount_of_money, self.sum_on_ending)\n",
    "\n",
    "class Account:\n",
    "    last_deposit = 0\n",
    "    first_name = \"\"\n",
    "    second_name = \"\"\n",
    "    status = 0\n",
    "    deposits = dict()\n",
    "    \n",
    "    def __init__(self, first_name, second_name, status = 0):\n",
    "        self.first_name = first_name\n",
    "        self.second_name = second_name\n",
    "        self.status = status\n",
    "    \n",
    "    def my_open_account(self):\n",
    "        return \"Account's owner: {} {}. Status: {}\".format(self.first_name, self.second_name, self.status)\n",
    "    \n",
    "    def put_account(self, amount):\n",
    "        self.status += amount\n",
    "    \n",
    "    def get_account(self, amount):\n",
    "        if amount > self.status:\n",
    "            raise ValueError(\"Not enough money to get them\")\n",
    "        self.status -= amount\n",
    "    \n",
    "    def send_deposit(self, amount, deposit_rate, deposit_time):\n",
    "        self.get_account(amount)\n",
    "        self.deposits[self.last_deposit] = Deposit(amount, deposit_rate, deposit_time)\n",
    "        self.last_deposit += 1\n",
    "        return self.last_deposit - 1\n",
    "    \n",
    "    def close_deposit(self, id):\n",
    "        try:\n",
    "            self.put_account(self.deposits[id].sum_on_ending)\n",
    "        except KeyError:\n",
    "            raise ValueError(\"Invalid deposit id!\")\n",
    "            \n",
    "ab = Account(\"Aa\", \"Bb\")\n",
    "cd = Account(\"Cc\", \"Dd\")\n",
    "ab.put_account(1000)\n",
    "cd.put_account(2000)\n",
    "\n",
    "print(ab.my_open_account())\n",
    "print(cd.my_open_account())\n",
    "\n",
    "dep1 = ab.send_deposit(500, 0.014, 2.5 * 12)\n",
    "dep2 = ab.send_deposit(500, 0.014, 0.5 * 12)\n",
    "\n",
    "print(ab.my_open_account())\n",
    "print(cd.my_open_account())\n",
    "\n",
    "ab.close_deposit(dep1)\n",
    "cd.close_deposit(dep2)\n",
    "\n",
    "print(ab.my_open_account())\n",
    "print(cd.my_open_account())\n"
   ]
  },
  {
   "cell_type": "markdown",
   "metadata": {},
   "source": [
    "## Завдання 3"
   ]
  },
  {
   "cell_type": "markdown",
   "metadata": {},
   "source": [
    "За допомогою конструктору класу створити сховище бібліотеки (бібліотеки навчального закладу) сучасних книг з програмування з наступними атирибутами: назва книги, видавець, кількість сторінок книги, ціна книги, ISBN книги, кількість екземпляів книги, доступних у бібліотеці. \n",
    "\n",
    "\n",
    "Розробити метод **info_of_books** відображення інформації 5 створених екземплярів класу бібліотеки сучасних книг з програмування. (Для двох різних книг в екземплярах повинен бути один автор). "
   ]
  },
  {
   "cell_type": "code",
   "execution_count": 20,
   "metadata": {},
   "outputs": [
    {
     "name": "stdout",
     "output_type": "stream",
     "text": [
      "Java Network Programming / Elliotte Rusty Harold - O'Reilly - 760 p. - ISBN 978-1-565-92870-1 : UAH255.22 (available 5 books)\n",
      "JavaMail API / Elliotte Rusty Harold - O'Reilly - 98 p. - ISBN 978-1-449-36724-4 : UAH170.24 (available 3 books)\n",
      "Clean Code / Robert C. Martin - Prentice Hall - 464 p. - ISBN 978-0-132-35088-4 : UAH1154.01 (available 1 books)\n",
      "The Art of Computer Programming / Donald E. Knuth - Addison-Wesley Professional - 672 p. - ISBN 978-0-201-89683-1 : UAH1852.67 (available 10 books)\n",
      "Design Patterns: Elements of Reusable Object-Oriented Software / Gamma Erich, Helm Richard, Johnson Ralph, Vlissides John - Addison-Wesley Professional - 568 p. - ISBN 978-0-201-63361-0 : UAH896.58 (available 4 books)\n"
     ]
    }
   ],
   "source": [
    "class Book:\n",
    "    def __init__(self, name, author, publisher, page_amount, price, isbn):\n",
    "        self.name = name\n",
    "        self.author = author\n",
    "        self.publisher = publisher\n",
    "        self.page_amount = page_amount\n",
    "        self.price = price\n",
    "        self.isbn = isbn\n",
    "        \n",
    "    def info(self):\n",
    "        return f'{self.name} / {self.author} - {self.publisher} - {self.page_amount} p. - ISBN {self.isbn} : UAH{self.price}'\n",
    "\n",
    "class Library:\n",
    "    books = dict()\n",
    "    \n",
    "    def add(self, book, amount):\n",
    "        self.books[book] = amount\n",
    "        \n",
    "    def info_of_books(self):\n",
    "        for book, amount in self.books.items():\n",
    "            print('{} (available {} books)'.format(book.info(), amount))\n",
    "    \n",
    "lib = Library()\n",
    "\n",
    "jnp = Book('Java Network Programming', 'Elliotte Rusty Harold', \"O'Reilly\", 760, 255.22, '978-1-565-92870-1')\n",
    "jmapi = Book('JavaMail API', 'Elliotte Rusty Harold', \"O'Reilly\", 98, 170.24, '978-1-449-36724-4')\n",
    "clean_code = Book('Clean Code', 'Robert C. Martin', 'Prentice Hall', 464, 1154.01, '978-0-132-35088-4')\n",
    "art_of_programming = Book('The Art of Computer Programming', 'Donald E. Knuth', 'Addison-Wesley Professional', 672, 1852.67, '978-0-201-89683-1')\n",
    "gang_of_four = Book('Design Patterns: Elements of Reusable Object-Oriented Software', 'Gamma Erich, Helm Richard, Johnson Ralph, Vlissides John', 'Addison-Wesley Professional', 568, 896.58, '978-0-201-63361-0')\n",
    "\n",
    "lib.add(jnp, 5)\n",
    "lib.add(jmapi, 3)\n",
    "lib.add(clean_code, 1)\n",
    "lib.add(art_of_programming, 10)\n",
    "lib.add(gang_of_four, 4)\n",
    "\n",
    "lib.info_of_books()"
   ]
  },
  {
   "cell_type": "markdown",
   "metadata": {},
   "source": [
    "## Завдання 4"
   ]
  },
  {
   "cell_type": "markdown",
   "metadata": {},
   "source": [
    "Для створеного класу бібліотеки навчального закладу, написати метод, який показує наявність книг у бібліотеці з результатами (\"є у бібліотеці\", \"немає у бібліотеці\"). \n",
    "\n",
    "Написати метод, яким зменшується кількість книг бібліотеки, які видані клієнту із бібліотеки. У випадку, коли немає наявних книг, про це необхідно надати повідомлення клієнту. "
   ]
  },
  {
   "cell_type": "code",
   "execution_count": 23,
   "metadata": {
    "scrolled": true
   },
   "outputs": [
    {
     "name": "stdout",
     "output_type": "stream",
     "text": [
      "True\n",
      "False\n"
     ]
    }
   ],
   "source": [
    "class Library:\n",
    "    books = dict()\n",
    "    \n",
    "    def add(self, book, amount):\n",
    "        if book not in self.books:\n",
    "            self.books[book] = amount\n",
    "        else:\n",
    "            self.books[book] += amount\n",
    "        \n",
    "    def check_book(self, book):\n",
    "        return book in self.books and self.books[book]\n",
    "    \n",
    "    def decrease_book_amount(self, book):\n",
    "        if not self.check_book(book):\n",
    "            print(\"There is no such book in the library\")\n",
    "        self.books[book] -= 1\n",
    "        \n",
    "    def info_of_books(self):\n",
    "        for book, amount in self.books.items():\n",
    "            print('{} (available {} books)'.format(book.info(), amount))\n",
    "            \n",
    "lib = Library()\n",
    "\n",
    "jnp = Book('Java Network Programming', 'Elliotte Rusty Harold', \"O'Reilly\", 760, 255.22, '978-1-565-92870-1')\n",
    "jmapi = Book('JavaMail API', 'Elliotte Rusty Harold', \"O'Reilly\", 98, 170.24, '978-1-449-36724-4')\n",
    "clean_code = Book('Clean Code', 'Robert C. Martin', 'Prentice Hall', 464, 1154.01, '978-0-132-35088-4')\n",
    "art_of_programming = Book('The Art of Computer Programming', 'Donald E. Knuth', 'Addison-Wesley Professional', 672, 1852.67, '978-0-201-89683-1')\n",
    "gang_of_four = Book('Design Patterns: Elements of Reusable Object-Oriented Software', 'Gamma Erich, Helm Richard, Johnson Ralph, Vlissides John', 'Addison-Wesley Professional', 568, 896.58, '978-0-201-63361-0')\n",
    "\n",
    "lib.add(jnp, 5)\n",
    "lib.add(jmapi, 3)\n",
    "lib.add(clean_code, 1)\n",
    "lib.add(art_of_programming, 10)\n",
    "lib.add(gang_of_four, 4)\n",
    "\n",
    "print(bool(lib.check_book(clean_code)))\n",
    "lib.decrease_book_amount(clean_code)\n",
    "print(bool(lib.check_book(clean_code)))"
   ]
  },
  {
   "cell_type": "markdown",
   "metadata": {},
   "source": [
    "## Завдання 5"
   ]
  },
  {
   "cell_type": "markdown",
   "metadata": {},
   "source": [
    "Створити список із виществорених 5 екземплярів книг бібліотеки (Завдання 3). Шляхом ітерації цього списку за допомогою **for** застосувати метод **info_of_books** для кожного елементу списку. \n",
    "\n",
    "Створити список, у якому знаходяться назви книг і видавці книг одного автора. "
   ]
  },
  {
   "cell_type": "code",
   "execution_count": 24,
   "metadata": {},
   "outputs": [
    {
     "name": "stdout",
     "output_type": "stream",
     "text": [
      "{'Donald E. Knuth': ['The Art of Computer Programming'],\n",
      " 'Elliotte Rusty Harold': ['Java Network Programming', 'JavaMail API'],\n",
      " 'Gamma Erich, Helm Richard, Johnson Ralph, Vlissides John': ['Design '\n",
      "                                                              'Patterns: '\n",
      "                                                              'Elements of '\n",
      "                                                              'Reusable '\n",
      "                                                              'Object-Oriented '\n",
      "                                                              'Software'],\n",
      " 'Robert C. Martin': ['Clean Code']}\n",
      "\n",
      "{'Donald E. Knuth': ['Addison-Wesley Professional'],\n",
      " 'Elliotte Rusty Harold': [\"O'Reilly\"],\n",
      " 'Gamma Erich, Helm Richard, Johnson Ralph, Vlissides John': ['Addison-Wesley '\n",
      "                                                              'Professional'],\n",
      " 'Robert C. Martin': ['Prentice Hall']}\n"
     ]
    }
   ],
   "source": [
    "from pprint import pprint\n",
    "\n",
    "class Library:\n",
    "    books = dict()\n",
    "    \n",
    "    def add(self, book, amount):\n",
    "        if book not in self.books:\n",
    "            self.books[book] = amount\n",
    "        else:\n",
    "            self.books[book] += amount\n",
    "        \n",
    "    def check_book(self, book):\n",
    "        return book in self.books and self.books[book]\n",
    "    \n",
    "    def decrease_book_amount(self, book):\n",
    "        if not self.check_book(book):\n",
    "            print(\"There is no such book in the library\")\n",
    "        self.books[book] -= 1\n",
    "        \n",
    "    def group_names_by_author(self):\n",
    "        grouped = dict()\n",
    "        for book in self.books:\n",
    "            if book.author not in grouped:\n",
    "                grouped[book.author] = list()\n",
    "            if book.name not in grouped[book.author]:\n",
    "                grouped[book.author].append(book.name)\n",
    "        return grouped\n",
    "    \n",
    "    def group_publishers_by_author(self):\n",
    "        grouped = dict()\n",
    "        for book in self.books:\n",
    "            if book.author not in grouped:\n",
    "                grouped[book.author] = list()\n",
    "            if book.publisher not in grouped[book.author]:\n",
    "                grouped[book.author].append(book.publisher)\n",
    "        return grouped\n",
    "        \n",
    "    def info_of_books(self):\n",
    "        for book, amount in self.books.items():\n",
    "            print('{} (available {} books)'.format(book.info(), amount))\n",
    "            \n",
    "lib = Library()\n",
    "\n",
    "jnp = Book('Java Network Programming', 'Elliotte Rusty Harold', \"O'Reilly\", 760, 255.22, '978-1-565-92870-1')\n",
    "jmapi = Book('JavaMail API', 'Elliotte Rusty Harold', \"O'Reilly\", 98, 170.24, '978-1-449-36724-4')\n",
    "clean_code = Book('Clean Code', 'Robert C. Martin', 'Prentice Hall', 464, 1154.01, '978-0-132-35088-4')\n",
    "art_of_programming = Book('The Art of Computer Programming', 'Donald E. Knuth', 'Addison-Wesley Professional', 672, 1852.67, '978-0-201-89683-1')\n",
    "gang_of_four = Book('Design Patterns: Elements of Reusable Object-Oriented Software', 'Gamma Erich, Helm Richard, Johnson Ralph, Vlissides John', 'Addison-Wesley Professional', 568, 896.58, '978-0-201-63361-0')\n",
    "\n",
    "lib.add(jnp, 5)\n",
    "lib.add(jmapi, 3)\n",
    "lib.add(clean_code, 1)\n",
    "lib.add(art_of_programming, 10)\n",
    "lib.add(gang_of_four, 4)\n",
    "\n",
    "pprint(lib.group_names_by_author())\n",
    "print()\n",
    "pprint(lib.group_publishers_by_author())"
   ]
  },
  {
   "cell_type": "markdown",
   "metadata": {},
   "source": [
    "## Завдання 6"
   ]
  },
  {
   "cell_type": "markdown",
   "metadata": {},
   "source": [
    "У класі бібліотека книг створити властивість (@property), яка повиннна вказувати, що книга бібліотеки не може бути дешевше 20 грн. і більше ніж 250 грн.  "
   ]
  },
  {
   "cell_type": "code",
   "execution_count": 25,
   "metadata": {},
   "outputs": [
    {
     "ename": "ValueError",
     "evalue": "Book is too expensive",
     "output_type": "error",
     "traceback": [
      "\u001b[0;31m---------------------------------------------------------------------------\u001b[0m",
      "\u001b[0;31mValueError\u001b[0m                                Traceback (most recent call last)",
      "\u001b[0;32m<ipython-input-25-ba10f0e02678>\u001b[0m in \u001b[0;36m<module>\u001b[0;34m\u001b[0m\n\u001b[1;32m     25\u001b[0m \u001b[0mlib\u001b[0m \u001b[0;34m=\u001b[0m \u001b[0mLibrary\u001b[0m\u001b[0;34m(\u001b[0m\u001b[0;34m)\u001b[0m\u001b[0;34m\u001b[0m\u001b[0;34m\u001b[0m\u001b[0m\n\u001b[1;32m     26\u001b[0m \u001b[0;34m\u001b[0m\u001b[0m\n\u001b[0;32m---> 27\u001b[0;31m \u001b[0mjnp\u001b[0m \u001b[0;34m=\u001b[0m \u001b[0mBook\u001b[0m\u001b[0;34m(\u001b[0m\u001b[0;34m'Java Network Programming'\u001b[0m\u001b[0;34m,\u001b[0m \u001b[0;34m'Elliotte Rusty Harold'\u001b[0m\u001b[0;34m,\u001b[0m \u001b[0;34m\"O'Reilly\"\u001b[0m\u001b[0;34m,\u001b[0m \u001b[0;36m760\u001b[0m\u001b[0;34m,\u001b[0m \u001b[0;36m255.22\u001b[0m\u001b[0;34m,\u001b[0m \u001b[0;34m'978-1-565-92870-1'\u001b[0m\u001b[0;34m)\u001b[0m\u001b[0;34m\u001b[0m\u001b[0;34m\u001b[0m\u001b[0m\n\u001b[0m\u001b[1;32m     28\u001b[0m \u001b[0mjmapi\u001b[0m \u001b[0;34m=\u001b[0m \u001b[0mBook\u001b[0m\u001b[0;34m(\u001b[0m\u001b[0;34m'JavaMail API'\u001b[0m\u001b[0;34m,\u001b[0m \u001b[0;34m'Elliotte Rusty Harold'\u001b[0m\u001b[0;34m,\u001b[0m \u001b[0;34m\"O'Reilly\"\u001b[0m\u001b[0;34m,\u001b[0m \u001b[0;36m98\u001b[0m\u001b[0;34m,\u001b[0m \u001b[0;36m170.24\u001b[0m\u001b[0;34m,\u001b[0m \u001b[0;34m'978-1-449-36724-4'\u001b[0m\u001b[0;34m)\u001b[0m\u001b[0;34m\u001b[0m\u001b[0;34m\u001b[0m\u001b[0m\n\u001b[1;32m     29\u001b[0m \u001b[0mclean_code\u001b[0m \u001b[0;34m=\u001b[0m \u001b[0mBook\u001b[0m\u001b[0;34m(\u001b[0m\u001b[0;34m'Clean Code'\u001b[0m\u001b[0;34m,\u001b[0m \u001b[0;34m'Robert C. Martin'\u001b[0m\u001b[0;34m,\u001b[0m \u001b[0;34m'Prentice Hall'\u001b[0m\u001b[0;34m,\u001b[0m \u001b[0;36m464\u001b[0m\u001b[0;34m,\u001b[0m \u001b[0;36m1154.01\u001b[0m\u001b[0;34m,\u001b[0m \u001b[0;34m'978-0-132-35088-4'\u001b[0m\u001b[0;34m)\u001b[0m\u001b[0;34m\u001b[0m\u001b[0;34m\u001b[0m\u001b[0m\n",
      "\u001b[0;32m<ipython-input-25-ba10f0e02678>\u001b[0m in \u001b[0;36m__init__\u001b[0;34m(self, name, author, publisher, page_amount, price, isbn)\u001b[0m\n\u001b[1;32m      5\u001b[0m         \u001b[0mself\u001b[0m\u001b[0;34m.\u001b[0m\u001b[0mpublisher\u001b[0m \u001b[0;34m=\u001b[0m \u001b[0mpublisher\u001b[0m\u001b[0;34m\u001b[0m\u001b[0;34m\u001b[0m\u001b[0m\n\u001b[1;32m      6\u001b[0m         \u001b[0mself\u001b[0m\u001b[0;34m.\u001b[0m\u001b[0mpage_amount\u001b[0m \u001b[0;34m=\u001b[0m \u001b[0mpage_amount\u001b[0m\u001b[0;34m\u001b[0m\u001b[0;34m\u001b[0m\u001b[0m\n\u001b[0;32m----> 7\u001b[0;31m         \u001b[0mself\u001b[0m\u001b[0;34m.\u001b[0m\u001b[0mprice\u001b[0m \u001b[0;34m=\u001b[0m \u001b[0mprice\u001b[0m\u001b[0;34m\u001b[0m\u001b[0;34m\u001b[0m\u001b[0m\n\u001b[0m\u001b[1;32m      8\u001b[0m         \u001b[0mself\u001b[0m\u001b[0;34m.\u001b[0m\u001b[0misbn\u001b[0m \u001b[0;34m=\u001b[0m \u001b[0misbn\u001b[0m\u001b[0;34m\u001b[0m\u001b[0;34m\u001b[0m\u001b[0m\n\u001b[1;32m      9\u001b[0m \u001b[0;34m\u001b[0m\u001b[0m\n",
      "\u001b[0;32m<ipython-input-25-ba10f0e02678>\u001b[0m in \u001b[0;36mprice\u001b[0;34m(self, new_price)\u001b[0m\n\u001b[1;32m     20\u001b[0m             \u001b[0;32mraise\u001b[0m \u001b[0mValueError\u001b[0m\u001b[0;34m(\u001b[0m\u001b[0;34m\"Book is too cheap\"\u001b[0m\u001b[0;34m)\u001b[0m\u001b[0;34m\u001b[0m\u001b[0;34m\u001b[0m\u001b[0m\n\u001b[1;32m     21\u001b[0m         \u001b[0;32melif\u001b[0m \u001b[0mnew_price\u001b[0m \u001b[0;34m>\u001b[0m \u001b[0;36m250\u001b[0m\u001b[0;34m:\u001b[0m\u001b[0;34m\u001b[0m\u001b[0;34m\u001b[0m\u001b[0m\n\u001b[0;32m---> 22\u001b[0;31m             \u001b[0;32mraise\u001b[0m \u001b[0mValueError\u001b[0m\u001b[0;34m(\u001b[0m\u001b[0;34m\"Book is too expensive\"\u001b[0m\u001b[0;34m)\u001b[0m\u001b[0;34m\u001b[0m\u001b[0;34m\u001b[0m\u001b[0m\n\u001b[0m\u001b[1;32m     23\u001b[0m         \u001b[0mself\u001b[0m\u001b[0;34m.\u001b[0m\u001b[0m_price\u001b[0m \u001b[0;34m=\u001b[0m \u001b[0mnew_price\u001b[0m\u001b[0;34m\u001b[0m\u001b[0;34m\u001b[0m\u001b[0m\n\u001b[1;32m     24\u001b[0m \u001b[0;34m\u001b[0m\u001b[0m\n",
      "\u001b[0;31mValueError\u001b[0m: Book is too expensive"
     ]
    }
   ],
   "source": [
    "class Book:\n",
    "    def __init__(self, name, author, publisher, page_amount, price, isbn):\n",
    "        self.name = name\n",
    "        self.author = author\n",
    "        self.publisher = publisher\n",
    "        self.page_amount = page_amount\n",
    "        self.price = price\n",
    "        self.isbn = isbn\n",
    "        \n",
    "    def info(self):\n",
    "        return f'{self.name} / {self.author} - {self.publisher} - {self.page_amount} p. - ISBN {self.isbn} : UAH{self.price}'\n",
    "    \n",
    "    @property\n",
    "    def price(self):\n",
    "        return self._price\n",
    "    \n",
    "    @price.setter\n",
    "    def price(self, new_price):\n",
    "        if new_price < 20:\n",
    "            raise ValueError(\"Book is too cheap\")\n",
    "        elif new_price > 250:\n",
    "            raise ValueError(\"Book is too expensive\")\n",
    "        self._price = new_price\n",
    "        \n",
    "lib = Library()\n",
    "\n",
    "jnp = Book('Java Network Programming', 'Elliotte Rusty Harold', \"O'Reilly\", 760, 255.22, '978-1-565-92870-1')\n",
    "jmapi = Book('JavaMail API', 'Elliotte Rusty Harold', \"O'Reilly\", 98, 170.24, '978-1-449-36724-4')\n",
    "clean_code = Book('Clean Code', 'Robert C. Martin', 'Prentice Hall', 464, 1154.01, '978-0-132-35088-4')\n",
    "art_of_programming = Book('The Art of Computer Programming', 'Donald E. Knuth', 'Addison-Wesley Professional', 672, 1852.67, '978-0-201-89683-1')\n",
    "gang_of_four = Book('Design Patterns: Elements of Reusable Object-Oriented Software', 'Gamma Erich, Helm Richard, Johnson Ralph, Vlissides John', 'Addison-Wesley Professional', 568, 896.58, '978-0-201-63361-0')\n",
    "\n",
    "lib.add(jnp, 5)\n",
    "lib.add(jmapi, 3)\n",
    "lib.add(clean_code, 1)\n",
    "lib.add(art_of_programming, 10)\n",
    "lib.add(gang_of_four, 4)\n",
    "\n"
   ]
  },
  {
   "cell_type": "markdown",
   "metadata": {},
   "source": [
    "## Завдання 7"
   ]
  },
  {
   "cell_type": "markdown",
   "metadata": {},
   "source": [
    "За допомогою конструктору класу, створити клас перетворення дробу **SetConverter**, який має дві змінні set_numerator (чисельник дробу) і  set_denominator (знаменник дробу). Значення знаменника дробу (set_denominator) за замовчуванням повинно дорівнювати 1.\n",
    "\n",
    "Напишить метод (**print_converter**), який друкує: \"чисельник:\" 8 \"знаменник:\" 9 (8/9)\n",
    "\n",
    "У конструкторі класу передбачити заміну негативних чисельника і знаменника з винесенням знаку мінус перед дробом.\n",
    "- створити екземпляр класу **example1** за входними даними: \"чисельник:\" 8 \"знаменник:\"  9, результат: -\"чисельник:\" 8 \"знаменник:\"  9 або (8/9)\n",
    "- створити екземпляр класу **example2** за входними даними: \"чисельник:\" -8 \"знаменник:\"  9, результат: -\"чисельник:\" 8 \"знаменник:\"  9 або (-8/9)\n",
    "- створити екземпляр класу **example3** за входними даними: \"чисельник:\"  8 \"знаменник:\" -9, результат: -\"чисельник:\" 8 \"знаменник:\"  9 або (-8/9)\n",
    "- створити екземпляр класу **example4** за входними даними: \"чисельник:\" -8 \"знаменник:\" -9, результат: \"чисельник:\" 8 \"знаменник:\"  9 або  (8/9)\n",
    "\n",
    "Результат: \n",
    "\n",
    "8/9\n",
    "\n",
    "-8/9\n",
    "\n",
    "-8/9\n",
    "\n",
    "8/9"
   ]
  },
  {
   "cell_type": "code",
   "execution_count": 26,
   "metadata": {},
   "outputs": [
    {
     "name": "stdout",
     "output_type": "stream",
     "text": [
      "8/9\n",
      "-8/9\n",
      "-8/9\n",
      "8/9\n"
     ]
    }
   ],
   "source": [
    "class SetConverter:\n",
    "    def __init__(self, numerator, denominator=1):\n",
    "        if denominator == 0:\n",
    "            raise ValueError('Denominator cannot be zero!')\n",
    "        if (numerator * denominator) < 0:\n",
    "            self.numerator = abs(numerator) * (-1)\n",
    "        else:\n",
    "            self.numerator = abs(numerator)\n",
    "        self.denominator = abs(denominator)\n",
    "    \n",
    "    def __str__(self):\n",
    "        return f\"{self.numerator}/{self.denominator}\"\n",
    "    \n",
    "    def print_converter(self):\n",
    "        print(self)\n",
    "        \n",
    "example1 = SetConverter(8, 9)\n",
    "example2 = SetConverter(-8, 9)\n",
    "example3 = SetConverter(8, -9)\n",
    "example4 = SetConverter(-8, -9)\n",
    "\n",
    "example1.print_converter()\n",
    "example2.print_converter()\n",
    "example3.print_converter()\n",
    "example4.print_converter()"
   ]
  },
  {
   "cell_type": "markdown",
   "metadata": {},
   "source": [
    "## Завдання 8"
   ]
  },
  {
   "cell_type": "markdown",
   "metadata": {},
   "source": [
    "Визначте методи: додавання - (**addition**), віднімання - (**subtraction**), множення -(**multiplication**), ділення - (**division**) для екземплярів класів, що створюються за допомогою класу **SetConverter** завдання 7. \n",
    "\n",
    "Привести по два приклади застосування цих методів для обраних вхідних даних. \n",
    "\n",
    "Для кожного прикладу двох вхідних даних видати результат за допомогою методу **print_converter**. \n",
    "\n",
    "Провести інтерпретацію. "
   ]
  },
  {
   "cell_type": "code",
   "execution_count": 27,
   "metadata": {},
   "outputs": [
    {
     "name": "stdout",
     "output_type": "stream",
     "text": [
      "Sum:\n",
      "145.0/72\n",
      "20.0/12\n",
      "\n",
      "Subtraction:\n",
      "2.0/36\n",
      "7.0/24\n",
      "\n",
      "Multiplication:\n",
      "40/54\n",
      "90/96\n",
      "\n",
      "Division:\n",
      "64/81\n",
      "60/60\n",
      "\n"
     ]
    }
   ],
   "source": [
    "import math\n",
    "\n",
    "def lcm(a, b):\n",
    "    return abs(a * b) // math.gcd(a, b)\n",
    "\n",
    "class SetConverter:\n",
    "    def __init__(self, numerator, denominator=1):\n",
    "        if denominator == 0:\n",
    "            raise ValueError('Denominator cannot be zero!')\n",
    "        if (numerator * denominator) < 0:\n",
    "            self.numerator = abs(numerator) * (-1)\n",
    "        else:\n",
    "            self.numerator = abs(numerator)\n",
    "        self.denominator = abs(denominator)\n",
    "    \n",
    "    def __str__(self):\n",
    "        return f\"{self.numerator}/{self.denominator}\"\n",
    "    \n",
    "    def print_converter(self):\n",
    "        print(self)\n",
    "        \n",
    "    def add(self, rhs):\n",
    "        denominator = lcm(self.denominator, rhs.denominator)\n",
    "        left_numerator = self.numerator * (denominator / self.denominator)\n",
    "        right_numerator = rhs.numerator * (denominator / rhs.denominator)\n",
    "        return SetConverter(left_numerator + right_numerator, denominator)\n",
    "    \n",
    "    def subtract(self, rhs):\n",
    "        denominator = lcm(self.denominator, rhs.denominator)\n",
    "        left_numerator = self.numerator * (denominator / self.denominator)\n",
    "        right_numerator = rhs.numerator * (denominator / rhs.denominator)\n",
    "        return SetConverter(left_numerator - right_numerator, denominator)\n",
    "        \n",
    "    def multiply(self, rhs):\n",
    "        return SetConverter(self.numerator * rhs.numerator, self.denominator * rhs.denominator)\n",
    "        \n",
    "    def divide(self, rhs):\n",
    "        return SetConverter(self.numerator * rhs.denominator, self.denominator * rhs.numerator)\n",
    "        \n",
    "a = SetConverter(8, 9)\n",
    "b = SetConverter(9, 8)\n",
    "c = SetConverter(10, 12)\n",
    "d = SetConverter(5, 6)\n",
    "\n",
    "print(\"Sum:\")\n",
    "a_add_b = a.add(b)\n",
    "c_add_d = c.add(d)\n",
    "a_add_b.print_converter()\n",
    "c_add_d.print_converter()\n",
    "print()\n",
    "\n",
    "print(\"Subtraction:\")\n",
    "a_sub_c = a.subtract(c)\n",
    "b_sub_d = b.subtract(d)\n",
    "a_sub_c.print_converter()\n",
    "b_sub_d.print_converter()\n",
    "print()\n",
    "\n",
    "print(\"Multiplication:\")\n",
    "a_mul_d = a.multiply(d)\n",
    "b_mul_c = b.multiply(c)\n",
    "a_mul_d.print_converter()\n",
    "b_mul_c.print_converter()\n",
    "print()\n",
    "\n",
    "print(\"Division:\")\n",
    "a_div_b = a.divide(b)\n",
    "c_div_d = c.divide(d)\n",
    "a_div_b.print_converter()\n",
    "c_div_d.print_converter()\n",
    "print()"
   ]
  },
  {
   "cell_type": "markdown",
   "metadata": {},
   "source": [
    "## Завдання 9"
   ]
  },
  {
   "cell_type": "markdown",
   "metadata": {},
   "source": [
    "Для наступного класу **Auto** створіть властивість (@property) лише для надання ціни продажу автомобіля **customer_price** на первинному ринку, що  обчислюється шляхом врахування знижки **discount** відносно поточної ринкової ціни **current_price**. Знижка **discount** надається у відсотках. \n",
    "\n",
    "\n",
    "class Auto():\n",
    "\n",
    "    def __init__(self, brand, current_price, discount):\n",
    "        self.brand = brand\n",
    "        self.current_price = current_price\n",
    "        self.discount = discount\n",
    "    \n",
    "Для створення екземлярів класу **Auto** використати наступні вхідні дані.     \n",
    "    \n",
    "- example1 = Auto('ЗАЗ', 7000, 10)\n",
    "- example2 = Auto('Мерседес', 100000, 5)\n",
    "- example3 = Auto('БМВ', 110000, 5)\n",
    "- example4 = Auto('Ауді', 120000, 3)"
   ]
  },
  {
   "cell_type": "code",
   "execution_count": 3,
   "metadata": {},
   "outputs": [
    {
     "name": "stdout",
     "output_type": "stream",
     "text": [
      "6300.0\n",
      "95000.0\n",
      "104500.0\n",
      "116400.0\n"
     ]
    }
   ],
   "source": [
    "class Auto():\n",
    "    def __init__(self, brand, current_price, discount):\n",
    "        self.brand = brand\n",
    "        self.current_price = current_price\n",
    "        self.discount = discount\n",
    "        \n",
    "    @property\n",
    "    def customer_price(self):\n",
    "        return self.current_price - (self.current_price * (self.discount / 100))\n",
    "        \n",
    "example1 = Auto('ЗАЗ', 7000, 10)\n",
    "example2 = Auto('Мерседес', 100000, 5)\n",
    "example3 = Auto('БМВ', 110000, 5)\n",
    "example4 = Auto('Ауді', 120000, 3)\n",
    "\n",
    "print(example1.customer_price)\n",
    "print(example2.customer_price)\n",
    "print(example3.customer_price)\n",
    "print(example4.customer_price)"
   ]
  },
  {
   "cell_type": "markdown",
   "metadata": {},
   "source": [
    "## Завдання 10"
   ]
  },
  {
   "cell_type": "markdown",
   "metadata": {},
   "source": [
    "Припустимо, що власник придбав зі знижкою вказані автомобілі завдання 9 на первинному ринку. Після року експлуатації всіх чотирьох автомобілів, власник вирішив їх продати на вторинному ринку з додатковою знижкою 0%, 2%, 3% 4% для кожного автомобіля відповідно. Необхідно застосувати знижку **secondary_market_discount**, як властивість для продажу кожного автомобіля на вторинному ринку, за умови, що його ціна більше 10000. "
   ]
  },
  {
   "cell_type": "code",
   "execution_count": 28,
   "metadata": {},
   "outputs": [
    {
     "name": "stdout",
     "output_type": "stream",
     "text": [
      "6300.0\n",
      "95000.0\n",
      "104500.0\n",
      "116400.0\n",
      "\n",
      "7000.0\n",
      "98000.0\n",
      "106700.0\n",
      "115200.0\n"
     ]
    }
   ],
   "source": [
    "class Auto():\n",
    "    def __init__(self, brand, current_price, discount, secondary_market_discount):\n",
    "        self.brand = brand\n",
    "        self.current_price = current_price\n",
    "        self.discount = discount\n",
    "        self.secondary_market_discount = secondary_market_discount\n",
    "        \n",
    "    @property\n",
    "    def customer_price(self):\n",
    "        return self.current_price - (self.current_price * (self.discount / 100))\n",
    "    \n",
    "    @property\n",
    "    def secondary_market_price(self):\n",
    "        applied_discount = self.secondary_market_discount if self.current_price > 10000 else 0\n",
    "        return self.current_price - (self.current_price * (applied_discount / 100))\n",
    "    \n",
    "example1 = Auto('ЗАЗ', 7000, 10, 0)\n",
    "example2 = Auto('Мерседес', 100000, 5, 2)\n",
    "example3 = Auto('БМВ', 110000, 5, 3)\n",
    "example4 = Auto('Ауді', 120000, 3, 4)\n",
    "\n",
    "print(example1.customer_price)\n",
    "print(example2.customer_price)\n",
    "print(example3.customer_price)\n",
    "print(example4.customer_price)\n",
    "print()\n",
    "print(example1.secondary_market_price)\n",
    "print(example2.secondary_market_price)\n",
    "print(example3.secondary_market_price)\n",
    "print(example4.secondary_market_price)"
   ]
  },
  {
   "cell_type": "code",
   "execution_count": null,
   "metadata": {},
   "outputs": [],
   "source": []
  }
 ],
 "metadata": {
  "kernelspec": {
   "display_name": "conda_python3",
   "language": "python",
   "name": "conda_python3"
  },
  "language_info": {
   "codemirror_mode": {
    "name": "ipython",
    "version": 3
   },
   "file_extension": ".py",
   "mimetype": "text/x-python",
   "name": "python",
   "nbconvert_exporter": "python",
   "pygments_lexer": "ipython3",
   "version": "3.6.13"
  }
 },
 "nbformat": 4,
 "nbformat_minor": 4
}
