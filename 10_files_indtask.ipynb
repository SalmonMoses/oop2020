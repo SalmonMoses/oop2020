{
 "cells": [
  {
   "cell_type": "markdown",
   "metadata": {},
   "source": [
    "## Індивідуальне завдання №1 \n",
    "\n",
    "З початку практичного заняття надіслати до чату **склад команди** і її **назву**\n",
    "\n",
    "Перед захистом індивідуальних завдань надати до чату посилання на свій github дисципліни ООП "
   ]
  },
  {
   "cell_type": "code",
   "execution_count": null,
   "metadata": {},
   "outputs": [],
   "source": []
  },
  {
   "cell_type": "markdown",
   "metadata": {},
   "source": [
    "## Індивідуальне завдання №2"
   ]
  },
  {
   "cell_type": "markdown",
   "metadata": {},
   "source": [
    "1.**За допомогою конструктору класу**, створити клас (будь-якої предметної галузі) з 3-ма атибутами і 3-ма методами, що можуть змінювати їх значення. \n",
    "2. Створити 3 екземпляри класу. \n",
    "3. Роздрукувати властивості всіх екзмемплярів. \n",
    "4. У 1-му екземплярі змінити 1-е значення атирибуту базового класу \n",
    "5. У 2-му екземплярі змінити 2-е значення атирибуту базового класу\n",
    "6. У 3-му екземплярі змінити 3-е значення атирибуту базового класу\n",
    "7. Роздрукувати всі значення атирибутів всіх екземплярів \n",
    "8. Провести інтерпретацію. \n",
    "  "
   ]
  },
  {
   "cell_type": "code",
   "execution_count": 1,
   "metadata": {},
   "outputs": [],
   "source": [
    "class File:\n",
    "    def __init__(self, name, creation_time, author):\n",
    "        self.name = name\n",
    "        self.creation_time = creation_time\n",
    "        self.author = author\n",
    "    \n",
    "    def set_name(self, name):\n",
    "        self.name = name\n",
    "        \n",
    "    def set_creation_time(self, time):\n",
    "        self.creation_time = time\n",
    "        \n",
    "    def set_author(self, author):\n",
    "        self.author = author"
   ]
  },
  {
   "cell_type": "code",
   "execution_count": 6,
   "metadata": {},
   "outputs": [
    {
     "name": "stdout",
     "output_type": "stream",
     "text": [
      "File_1 2021-02-16 11:06:19.503150 AB\n",
      "File_2 2021-02-16 11:06:19.503505 CD\n",
      "File_3 2021-02-16 11:06:19.503644 EF\n"
     ]
    }
   ],
   "source": [
    "from datetime import datetime\n",
    "\n",
    "file1 = File(\"File_1\", datetime.now(), \"AB\")\n",
    "print(file1.name, file1.creation_time, file1.author)\n",
    "\n",
    "file2 = File(\"File_2\", datetime.now(), \"CD\")\n",
    "print(file2.name, file2.creation_time, file2.author)\n",
    "\n",
    "file3 = File(\"File_3\", datetime.now(), \"EF\")\n",
    "print(file3.name, file3.creation_time, file3.author)"
   ]
  },
  {
   "cell_type": "code",
   "execution_count": 10,
   "metadata": {},
   "outputs": [
    {
     "name": "stdout",
     "output_type": "stream",
     "text": [
      "Updated_File_1 2021-02-16 11:06:19.503150 AB\n",
      "File_2 2021-02-16 11:08:44.971879 CD\n",
      "File_3 2021-02-16 11:06:19.503644 GH\n"
     ]
    }
   ],
   "source": [
    "file1.set_name(\"Updated_File_1\")\n",
    "file2.set_creation_time(datetime.now())\n",
    "file3.set_author(\"GH\")\n",
    "\n",
    "print(file1.name, file1.creation_time, file1.author)\n",
    "print(file2.name, file2.creation_time, file2.author)\n",
    "print(file3.name, file3.creation_time, file3.author)"
   ]
  },
  {
   "cell_type": "markdown",
   "metadata": {},
   "source": [
    "## Індивідуальне завдання №3"
   ]
  },
  {
   "cell_type": "markdown",
   "metadata": {},
   "source": [
    "1.**Без конструктору класу**, створити клас (будь-якої предметної галузі) з 3-ма атибутами і 3-ма методами, що можуть змінювати їх значення. \n",
    "2. Створити 3 екземпляри класу. \n",
    "3. Роздрукувати властивості всіх екзмемплярів. \n",
    "4. У 1-му екземплярі змінити 1-е значення атирибуту базового класу \n",
    "5. У 2-му екземплярі змінити 2-е значення атирибуту базового класу\n",
    "6. У 3-му екземплярі змінити 3-е значення атирибуту базового класу\n",
    "7. Роздрукувати всі значення атирибутів всіх екземплярів \n",
    "8. Провести інтерпретацію. "
   ]
  },
  {
   "cell_type": "code",
   "execution_count": 14,
   "metadata": {},
   "outputs": [],
   "source": [
    "class File:\n",
    "    name = \"\"\n",
    "    creation_time = datetime.now()\n",
    "    author = \"\"\n",
    "    \n",
    "    def set_name(self, name):\n",
    "        self.name = name\n",
    "        \n",
    "    def set_creation_time(self, time):\n",
    "        self.creation_time = time\n",
    "        \n",
    "    def set_author(self, author):\n",
    "        self.author = author"
   ]
  },
  {
   "cell_type": "code",
   "execution_count": 15,
   "metadata": {},
   "outputs": [
    {
     "name": "stdout",
     "output_type": "stream",
     "text": [
      " 2021-02-16 11:11:25.294976 \n",
      " 2021-02-16 11:11:25.294976 \n",
      " 2021-02-16 11:11:25.294976 \n"
     ]
    }
   ],
   "source": [
    "from datetime import datetime\n",
    "\n",
    "file1 = File()\n",
    "print(file1.name, file1.creation_time, file1.author)\n",
    "\n",
    "file2 = File()\n",
    "print(file2.name, file2.creation_time, file2.author)\n",
    "\n",
    "file3 = File()\n",
    "print(file3.name, file3.creation_time, file3.author)"
   ]
  },
  {
   "cell_type": "code",
   "execution_count": 16,
   "metadata": {},
   "outputs": [
    {
     "name": "stdout",
     "output_type": "stream",
     "text": [
      "Updated_File_1 2021-02-16 11:11:25.294976 \n",
      " 2021-02-16 11:11:28.309771 \n",
      " 2021-02-16 11:11:25.294976 GH\n"
     ]
    }
   ],
   "source": [
    "file1.set_name(\"Updated_File_1\")\n",
    "file2.set_creation_time(datetime.now())\n",
    "file3.set_author(\"GH\")\n",
    "\n",
    "print(file1.name, file1.creation_time, file1.author)\n",
    "print(file2.name, file2.creation_time, file2.author)\n",
    "print(file3.name, file3.creation_time, file3.author)"
   ]
  },
  {
   "cell_type": "markdown",
   "metadata": {},
   "source": [
    "## Індивідуальне завдання №4"
   ]
  },
  {
   "cell_type": "markdown",
   "metadata": {},
   "source": [
    "1.Cтворити програму, яка визначає наявність товарів на складі, що характризуютьс наступними характристиками (атрибути класу): назва товару, тип товару, код товару, кількість. Зберігання товарів здійснюється у залежності від коду товару: 1 - промисловий склад, 2 - склад харчових продуктів, 3 - склад хімічних речовин, 4 - Оптовий склад, 5 - резервний склад      \n",
    "2. Представити постачання 5 різних товарів на склади (створити 5 екземплярів класу) різного типу.\n",
    "3. Застосувати метод зміни кількості товарів на складі\n",
    "4. Роздрукувати залишки на складі \n",
    "5. Провести інтерпретацію. "
   ]
  },
  {
   "cell_type": "code",
   "execution_count": 38,
   "metadata": {},
   "outputs": [],
   "source": [
    "class Item:\n",
    "    def __init__(self, name, item_type, code, quantity):\n",
    "        self.name = name\n",
    "        self.type = item_type\n",
    "        self.code = code\n",
    "        self.quantity = quantity\n",
    "        \n",
    "    def __repr__(self):\n",
    "        return 'Item {} is {} (code: {}, quantity: {})'.format(self.name, self.type, self.code, self.quantity)\n",
    "    \n",
    "    \n",
    "class Warehouse:\n",
    "    def __init__(self, name, code):\n",
    "        self.name = name\n",
    "        self.code = code\n",
    "        self.items = list()\n",
    "    \n",
    "    def supply_item(self, item):\n",
    "        if item.code != self.code:\n",
    "            raise ValueError(\"Invalid item code!\")\n",
    "        self.items.append(item)\n",
    "        \n",
    "    def __str__(self):\n",
    "        return '{} warehouse accepts code {} and has next items: {}'.format(self.name, self.code, str(self.items))\n",
    "        \n",
    "class WarehouseRouter:\n",
    "    warehouses = dict()\n",
    "    \n",
    "    def __init__(self, *args):\n",
    "        for wh in args:\n",
    "            self.add_warehouse(wh)\n",
    "    \n",
    "    def add_warehouse(self, warehouse):\n",
    "        self.warehouses[warehouse.code] = warehouse\n",
    "        \n",
    "    def supply_item(self, item):\n",
    "        item_code = item.code\n",
    "        if item_code in self.warehouses.keys():\n",
    "            self.warehouses[item_code].supply_item(item)\n",
    "        else:\n",
    "            raise ValueError('No warehouse for item code {}'.format(item_code))"
   ]
  },
  {
   "cell_type": "code",
   "execution_count": 39,
   "metadata": {},
   "outputs": [],
   "source": [
    "item1 = Item(\"Item1\", \"A\", 1, 1)\n",
    "item2 = Item(\"Item2\", \"B\", 4, 4)\n",
    "item3 = Item(\"Item3\", \"C\", 2, 10)\n",
    "item4 = Item(\"Item4\", \"D\", 5, 6)\n",
    "item5 = Item(\"Item5\", \"F\", 5, 8)\n",
    "\n",
    "wh1 = Warehouse(\"Industrial\", 1)\n",
    "wh2 = Warehouse(\"Edibles\", 2)\n",
    "wh3 = Warehouse(\"Chemicals\", 3)\n",
    "wh4 = Warehouse(\"Wholesale\", 4)\n",
    "wh5 = Warehouse(\"Reserve\", 5)\n",
    "\n",
    "router = WarehouseRouter(wh1, wh2, wh3, wh4, wh5)"
   ]
  },
  {
   "cell_type": "code",
   "execution_count": 40,
   "metadata": {},
   "outputs": [
    {
     "name": "stdout",
     "output_type": "stream",
     "text": [
      "Industrial warehouse accepts code 1 and has next items: [Item Item1 is A (code: 1, quantity: 1)]\n",
      "Edibles warehouse accepts code 2 and has next items: [Item Item3 is C (code: 2, quantity: 10)]\n",
      "Chemicals warehouse accepts code 3 and has next items: []\n",
      "Wholesale warehouse accepts code 4 and has next items: [Item Item2 is B (code: 4, quantity: 4)]\n",
      "Reserve warehouse accepts code 5 and has next items: [Item Item4 is D (code: 5, quantity: 6), Item Item5 is F (code: 5, quantity: 8)]\n"
     ]
    }
   ],
   "source": [
    "router.supply_item(item1)\n",
    "router.supply_item(item2)\n",
    "router.supply_item(item3)\n",
    "router.supply_item(item4)\n",
    "router.supply_item(item5)\n",
    "\n",
    "print(wh1)\n",
    "print(wh2)\n",
    "print(wh3)\n",
    "print(wh4)\n",
    "print(wh5)"
   ]
  },
  {
   "cell_type": "markdown",
   "metadata": {},
   "source": [
    "## Індивідуальне завдання №5\n",
    "\n",
    "Використовуючи композицію\n",
    "1. Модифікувати програму надану в лекці: \n",
    "        - створити клас фарбування підлоги (колір на вибір);\n",
    "        - створити клас фарбування стелі (білий колір), враховуючи квадратну люстру розміром 1м*1м, \n",
    "          яку не потрібно фарбувати;\n",
    "        - врахувати 2 дверей і 3 вікна;\n",
    "        - вивести площу фарбування: підлоги, стелі, стін \n",
    "2. Провести інтерпретацію"
   ]
  },
  {
   "cell_type": "code",
   "execution_count": 46,
   "metadata": {},
   "outputs": [
    {
     "name": "stdout",
     "output_type": "stream",
     "text": [
      "Площа стін кімнати дорівнює:   24  кв.м\n",
      "Площа підлоги кімнати дорівнює:   8  кв.м\n",
      "Площа стелі кімнати дорівнює:   9  кв.м\n",
      "Пофарбована площа дорвнює:  17.5  кв.м\n",
      "2.25\n",
      "2\n",
      "8\n"
     ]
    }
   ],
   "source": [
    "# Композиція: фарбування стін кімнати (без вікон і дверей) \n",
    "\n",
    "class Room:\n",
    "    def __init__(self,x,y,z):\n",
    "        self.square = 2 * z * (x + y)\n",
    "        self.floor = Floor(x, y)\n",
    "        self.ceiling = Ceiling(x, y)\n",
    "        \n",
    "    def win_door(self, d, e, f, g, m=1, n=1):\n",
    "        self.window = WinDoor(d,e)\n",
    "        self.door = WinDoor(f,g)\n",
    "        self.numb_w = m\n",
    "        self.numb_d = n\n",
    "        \n",
    "    def wallpainting(self):\n",
    "        self.wallpainting = self.square - \\\n",
    "            self.window.square * self.numb_w \\\n",
    "            - self.door.square * self.numb_d\n",
    "        \n",
    "    def printer(self):\n",
    "        print (\"Площа стін кімнати дорівнює:  \", str(self.square),\" кв.м\")\n",
    "        print (\"Площа підлоги кімнати дорівнює:  \", str(self.floor.square),\" кв.м\")\n",
    "        print (\"Площа стелі кімнати дорівнює:  \", str(self.ceiling.square),\" кв.м\")\n",
    "        print (\"Пофарбована площа дорвнює: \", str(self.wallpainting), \" кв.м\")\n",
    "\n",
    "class WinDoor:\n",
    "    def __init__(self,x,y):\n",
    "        self.square = x * y\n",
    "        \n",
    "class Floor:\n",
    "    def __init__(self, x, y):\n",
    "        self.square = x * y - 1\n",
    "    \n",
    "    def __str__(self):\n",
    "        return 'Площа підлоги = {}'.format(self.square)\n",
    "    \n",
    "class Ceiling:\n",
    "    def __init__(self, x, y):\n",
    "        self.square = x * y\n",
    "    \n",
    "    def __str__(self):\n",
    "        return 'Площа стелі = {}'.format(self.square)\n",
    "\n",
    "        \n",
    "# створення об'єкту класу Room \n",
    "class_room = Room(3, 3, 2)\n",
    "\n",
    "# створення вікон і дверей\n",
    "class_room.win_door(1.5,1.5, 2,1, 2)\n",
    "\n",
    "# Пофарбовані кв. метри\n",
    "class_room.wallpainting()\n",
    "\n",
    "# вивід\n",
    "class_room.printer()\n",
    "# додаткові об'єкти \n",
    "print(class_room.window.square)\n",
    "print(class_room.door.square)\n",
    "print(class_room.floor.square)"
   ]
  },
  {
   "cell_type": "code",
   "execution_count": null,
   "metadata": {},
   "outputs": [],
   "source": []
  }
 ],
 "metadata": {
  "kernelspec": {
   "display_name": "conda_python3",
   "language": "python",
   "name": "conda_python3"
  },
  "language_info": {
   "codemirror_mode": {
    "name": "ipython",
    "version": 3
   },
   "file_extension": ".py",
   "mimetype": "text/x-python",
   "name": "python",
   "nbconvert_exporter": "python",
   "pygments_lexer": "ipython3",
   "version": "3.6.10"
  }
 },
 "nbformat": 4,
 "nbformat_minor": 4
}
