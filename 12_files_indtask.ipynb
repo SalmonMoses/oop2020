{
 "cells": [
  {
   "cell_type": "markdown",
   "metadata": {},
   "source": [
    "## Індивідуальне завдання №1 \n",
    "\n"
   ]
  },
  {
   "cell_type": "markdown",
   "metadata": {},
   "source": [
    "На підприємстві функціонує система електронного документообігу. Система обробляє три **типи** документів: **листи**, **накази**, **розпорядження**. Кожен документ має: **номер**, **дату**, **короткий зміст**. Крім того, в листах вказується тип: **вхідний**/**вихідний** і **кореспондент**. А в наказах: **підрозділ**, **строк виконання**, і **виконавець**. А в розпорядженнях: **працівник**, **період** і **робоче місце**. \n",
    "    \n",
    "    Вивести: 1. Перелік документів в системі електронного документообігу.                                           \n",
    "             2. Зміст обраного документу за його номером. \n"
   ]
  },
  {
   "cell_type": "code",
   "execution_count": 2,
   "metadata": {},
   "outputs": [
    {
     "name": "stdout",
     "output_type": "stream",
     "text": [
      "{'brief': 'Letter One',\n",
      " 'date': datetime.date(2021, 3, 9),\n",
      " 'number': 1,\n",
      " 'sender': 'SM Melamed',\n",
      " 'type': 'Input'}\n",
      "\n",
      "{'brief': 'Order Two',\n",
      " 'date': datetime.date(2021, 3, 9),\n",
      " 'deadline': datetime.date(2021, 3, 9),\n",
      " 'executor': 'Executor',\n",
      " 'number': 2,\n",
      " 'subdivision': 'Subdivision Two'}\n",
      "\n",
      "{'brief': 'Direction Three',\n",
      " 'date': datetime.date(2021, 3, 9),\n",
      " 'number': 3,\n",
      " 'place': 'Work Place',\n",
      " 'term': datetime.date(2021, 3, 9),\n",
      " 'worker': 'Worker Three'}\n",
      "\n",
      "Order Two\n"
     ]
    }
   ],
   "source": [
    "from datetime import date\n",
    "from pprint import pprint\n",
    "\n",
    "class Document:\n",
    "    def __init__(self, number, date, brief):\n",
    "        self.number = number\n",
    "        self.date = date\n",
    "        self.brief = brief\n",
    "        \n",
    "class Letter(Document):\n",
    "    def __init__(self, number, date, brief, doc_type, sender):\n",
    "        super().__init__(number, date, brief)\n",
    "        self.type = doc_type\n",
    "        self.sender = sender\n",
    "        \n",
    "class Order(Document):\n",
    "    def __init__(self, number, date, brief, subdivision, deadline, executor):\n",
    "        super().__init__(number, date, brief)\n",
    "        self.subdivision, self.deadline, self.executor = subdivision, deadline, executor\n",
    "        \n",
    "class Directive(Document):\n",
    "    def __init__(self, number, date, brief, worker, term, place):\n",
    "        super().__init__(number, date, brief)\n",
    "        self.worker, self.term, self.place = worker, term, place\n",
    "\n",
    "class DocumentRepository:\n",
    "    docs = dict()\n",
    "    \n",
    "    def add_doc(self, doc):\n",
    "        self.docs[doc.number] = doc\n",
    "        \n",
    "    def get_all(self):\n",
    "        return self.docs.values()\n",
    "    \n",
    "    def read_by_number(self, number):\n",
    "        return self.docs[number].brief\n",
    "\n",
    "repo = DocumentRepository()\n",
    "letter = Letter(1, date.today(), \"Letter One\", \"Input\", \"SM Melamed\")\n",
    "order = Order(2, date.today(), \"Order Two\", \"Subdivision Two\", date.today(), \"Executor\")\n",
    "directive = Directive(3, date.today(), \"Direction Three\", \"Worker Three\", date.today(), \"Work Place\")\n",
    "\n",
    "repo.add_doc(letter)\n",
    "repo.add_doc(order)\n",
    "repo.add_doc(directive)\n",
    "\n",
    "for doc in repo.get_all():\n",
    "    pprint(doc.__dict__)\n",
    "    print()\n",
    "    \n",
    "print(repo.read_by_number(2))"
   ]
  },
  {
   "cell_type": "markdown",
   "metadata": {},
   "source": [
    "## Індивідуальне завдання №2"
   ]
  },
  {
   "cell_type": "markdown",
   "metadata": {},
   "source": [
    "В інформаційній системі Інтернет-магазину зберігається інформація про номенклатуру товарів **трьох** типів: **материнські плати**, **процесори**, **відеокарти**. Кожен товар має: **номенклатурний номер**, **найменування** і **вартість**.  Крім того, для материнських плат вказується: **тип сокета**, **кількість процесорів**, **тип оперативної пам’яті**, **частота системної шини**; для процесорів – **тип сокета**, **кількість ядер**, **тактова частота**, **техпроцес**; для відеокарт – **тактова частота відеочипу**, **швидкість заповнення (филлрейт)**, **кількість блоків текстурірування**.\n",
    "    \n",
    "    Вивести: 1. Повний перелік комплектуючих інформаційної системи Інтернет-магазину. \n",
    "             2. Детальну інформацію по товару за його номенклатурним номером. \n"
   ]
  },
  {
   "cell_type": "code",
   "execution_count": 3,
   "metadata": {},
   "outputs": [
    {
     "name": "stdout",
     "output_type": "stream",
     "text": [
      "{'_cpu_num': 1,\n",
      " '_frequency': 3.4,\n",
      " '_name': 'Motherboard',\n",
      " '_number': 1,\n",
      " '_price': 57,\n",
      " '_ram_type': 'NVMe',\n",
      " '_socket_type': 'PGA'}\n",
      "\n",
      "{'_core_num': 4,\n",
      " '_fabrication': 'Bionic',\n",
      " '_frequency': 3.4,\n",
      " '_name': 'CPU',\n",
      " '_number': 2,\n",
      " '_price': 60,\n",
      " '_socket_type': 'PGA'}\n",
      "\n",
      "{'_block_num': 30,\n",
      " '_fillrate': 15,\n",
      " '_frequency': 1.5,\n",
      " '_name': 'GPU',\n",
      " '_number': 3,\n",
      " '_price': 100}\n",
      "\n",
      "{'_core_num': 4,\n",
      " '_fabrication': 'Bionic',\n",
      " '_frequency': 3.4,\n",
      " '_name': 'CPU',\n",
      " '_number': 2,\n",
      " '_price': 60,\n",
      " '_socket_type': 'PGA'}\n"
     ]
    }
   ],
   "source": [
    "from pprint import pformat, pprint\n",
    "\n",
    "class Item:\n",
    "    def __init__(self, number, name, price):\n",
    "        self._number = number\n",
    "        self._name = name\n",
    "        self._price = price\n",
    "        \n",
    "class Motherboard(Item):\n",
    "    def __init__(self, number, name, price, socket_type, cpu_num, ram_type, frequency):\n",
    "        super().__init__(number, name, price)\n",
    "        self._socket_type = socket_type\n",
    "        self._cpu_num = cpu_num\n",
    "        self._ram_type = ram_type\n",
    "        self._frequency = frequency\n",
    "        \n",
    "class CPU(Item):\n",
    "    def __init__(self, number, name, price, socket_type, core_num, frequency, fabrication):\n",
    "        super().__init__(number, name, price)\n",
    "        self._socket_type = socket_type\n",
    "        self._core_num = core_num\n",
    "        self._frequency = frequency\n",
    "        self._fabrication = fabrication\n",
    "    \n",
    "class GPU(Item):\n",
    "    def __init__(self, number, name, price, frequency, fillrate, block_num):\n",
    "        super().__init__(number, name, price)\n",
    "        self._frequency = frequency\n",
    "        self._fillrate = fillrate\n",
    "        self._block_num = block_num\n",
    "        \n",
    "class EShop:\n",
    "    items = dict()\n",
    "    \n",
    "    def add_item(self, items):\n",
    "        self.items[items._number] = items\n",
    "        \n",
    "    def get_all(self):\n",
    "        return self.items.values()\n",
    "    \n",
    "    def read_by_number(self, number):\n",
    "        return self.items[number]\n",
    "    \n",
    "shop = EShop()\n",
    "board = Motherboard(1, \"Motherboard\", 57, \"PGA\", 1, \"NVMe\", 3.4)\n",
    "cpu = CPU(2, \"CPU\", 60, \"PGA\", 4, 3.4, \"Bionic\")\n",
    "gpu = GPU(3, \"GPU\", 100, 1.5, 15, 30)\n",
    "\n",
    "shop.add_item(board)\n",
    "shop.add_item(cpu)\n",
    "shop.add_item(gpu)\n",
    "\n",
    "for item in shop.get_all():\n",
    "    pprint(item.__dict__)\n",
    "    print()\n",
    "    \n",
    "pprint(shop.read_by_number(2).__dict__)"
   ]
  },
  {
   "cell_type": "code",
   "execution_count": null,
   "metadata": {},
   "outputs": [],
   "source": []
  }
 ],
 "metadata": {
  "kernelspec": {
   "display_name": "conda_python3",
   "language": "python",
   "name": "conda_python3"
  },
  "language_info": {
   "codemirror_mode": {
    "name": "ipython",
    "version": 3
   },
   "file_extension": ".py",
   "mimetype": "text/x-python",
   "name": "python",
   "nbconvert_exporter": "python",
   "pygments_lexer": "ipython3",
   "version": "3.6.10"
  }
 },
 "nbformat": 4,
 "nbformat_minor": 4
}
