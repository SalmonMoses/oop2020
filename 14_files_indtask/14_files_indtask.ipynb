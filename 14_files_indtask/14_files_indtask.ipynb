{
 "cells": [
  {
   "cell_type": "markdown",
   "metadata": {},
   "source": [
    "### ІЗ_№5"
   ]
  },
  {
   "cell_type": "markdown",
   "metadata": {},
   "source": [
    "Автомат кави – обслуговує клієнтів в автоматизованому режимі. \n",
    "\n",
    "Вибір типу кави здійснюється клієнтом із наданого меню, шляхом введення відповіді на запитання:\n",
    "    \n",
    "    Яку каву бажаєте ? (мак'ято/мокко/по-віденські/глясе/): глясе\n",
    "\n",
    "Вибір купюр для оплати обраного типу кави здійснюється шляхом введення купюр відповідного номіналу: \n",
    "    \n",
    "    Вставте грошову купюру \n",
    "    Скільки купюр -  гривни, номінал 20 грн?: 2\n",
    "    Скільки купюр -  гривни, номінал 10 грн?: 2\n",
    "    Скільки купюр -  гривни, номінал 5 грн?: 2\n",
    "    Скільки купюр -  гривни, номінал 2 грн?: 1\n",
    "    Скільки купюр -  гривни, номінал 1 грн?: 1\n",
    "    Залишок грн. 23.0 повернені.\n",
    "    \n",
    "Ваше замовлення глясе ☕️. Дякуємо, що завітали до нас!\n",
    "\n",
    "При виборі службового слова «чек» система надає список всіх інгредієнтів і ціну замовленої кави. \n",
    "\n",
    "    Яку каву бажаєте ? (мак'ято/мокко/по-віденські/глясе/): `чек`\n",
    "    Вода: 50мл.\n",
    "    Молоко: 90мл.\n",
    "    Кава: 80г.\n",
    "    Ціна: грн. 50\n",
    "\n",
    "Далі система працює в автоматизованому режимі з підготовки типу кави із наданого меню.\n",
    "\n",
    "       Яку каву бажаєте ? (мак'ято/мокко/по-віденські/глясе/):\n",
    "       \n",
    "Виключення автомату кави здійснються введенням ключового слова `дякую`\n",
    "       \n",
    "       Яку каву бажаєте ? (мак'ято/мокко/по-віденські/глясе/): дякую\n"
   ]
  },
  {
   "cell_type": "markdown",
   "metadata": {},
   "source": [
    "### Завдання: \n",
    "1.\tТільки в стартовому коді організувати вищенаведену функціональність шляхом створення екземплярів класів MoneyMachine, CoffeeMaker, Menu\n",
    "2.\tВсі інші програми не змінюються. \n"
   ]
  },
  {
   "cell_type": "code",
   "execution_count": 9,
   "metadata": {},
   "outputs": [
    {
     "name": "stdout",
     "output_type": "stream",
     "text": [
      "Яку каву бажаєте? (мак'ято/мокко/по-віденські/глясе/): глясе\n",
      "Вставте грошову купюру \n",
      "Скільки купюр -  гривни, номінал 20 грн.?: 2\n",
      "Скільки купюр -  гривни, номінал 10 грн.?: 2\n",
      "Скільки купюр -  гривни, номінал 5 грн.?: 2\n",
      "Скільки купюр -  гривни, номінал 2 грн.?: 2\n",
      "Скільки купюр -  гривни, номінал 1 грн.?: 2\n",
      "Залишок грн. 26.0 повернені.\n",
      "Ваше замовлення глясе ☕️. Дякуємо, що завітали до нас!\n",
      "Яку каву бажаєте? (мак'ято/мокко/по-віденські/глясе/): чек\n",
      "Обрана кава: глясе\n",
      "Вода: 250\n",
      "Молоко: 110\n",
      "Кава: 20\n",
      "Загальна вартість: 50\n",
      "Яку каву бажаєте? (мак'ято/мокко/по-віденські/глясе/): дякую\n"
     ]
    }
   ],
   "source": [
    "# стартовий код \n",
    "from menu import Menu, MenuItem\n",
    "from coffee_maker import CoffeeMaker\n",
    "from money_machine import MoneyMachine\n",
    "from sys import exit\n",
    "\n",
    "# реалізація функціонаьності\n",
    "class CoffeeMachine:\n",
    "    chosen_coffee = None\n",
    "    \n",
    "    def __init__(self, coffee_menu, money_machine, coffee_maker):\n",
    "        self.coffee_menu = coffee_menu\n",
    "        self.money_machine = money_machine\n",
    "        self.coffee_maker = coffee_maker\n",
    "        \n",
    "    def loop(self):\n",
    "        while True:\n",
    "            user_input = input(f\"Яку каву бажаєте? ({coffee_menu.get_items()}): \")\n",
    "            if user_input == 'дякую':\n",
    "                return\n",
    "            elif user_input == 'чек':\n",
    "                self.print_chosen_coffee_info()\n",
    "            else:\n",
    "                if not self.choose_coffee(user_input):\n",
    "                    continue\n",
    "                if not self.get_payment_for_coffee():\n",
    "                    continue\n",
    "                self.coffee_maker.make_coffee(self.chosen_coffee)\n",
    "                \n",
    "    def print_chosen_coffee_info(self):\n",
    "        print(f\"Обрана кава: {self.chosen_coffee.name}\")\n",
    "        for ingredient_name, ingredient_amount in self.chosen_coffee.ingredients.items():\n",
    "            print(f\"{ingredient_name.capitalize()}: {ingredient_amount}\")\n",
    "        print(f\"Загальна вартість: {self.chosen_coffee.cost}\")\n",
    "        \n",
    "    def choose_coffee(self, choice):\n",
    "        coffee_to_be_chosen = self.coffee_menu.find_drink(choice)\n",
    "        if coffee_to_be_chosen is None:\n",
    "            return False\n",
    "        if not self.coffee_maker.is_resource_sufficient(coffee_to_be_chosen):\n",
    "            return False\n",
    "        self.chosen_coffee = coffee_to_be_chosen\n",
    "        return True\n",
    "        \n",
    "    def get_payment_for_coffee(self):\n",
    "        return self.money_machine.make_payment(self.chosen_coffee.cost)\n",
    "\n",
    "coffee_menu = Menu()\n",
    "money_machine = MoneyMachine()\n",
    "coffee_maker = CoffeeMaker()\n",
    "coffee_machine = CoffeeMachine(coffee_menu, money_machine, coffee_maker)\n",
    "coffee_machine.loop()"
   ]
  },
  {
   "cell_type": "markdown",
   "metadata": {},
   "source": [
    "    Яку каву бажаєте ? (мак'ято/мокко/по-віденські/глясе/): глясе\n",
    "    Вставте грошову купюру \n",
    "    Скільки купюр -  гривни, номінал 20 грн.?: 2\n",
    "    Скільки купюр -  гривни, номінал 10 грн.?: 2\n",
    "    Скільки купюр -  гривни, номінал 5 грн.?: 2\n",
    "    Скільки купюр -  гривни, номінал 2 грн.?: 2\n",
    "    Скільки купюр -  гривни, номінал 1 грн.?: 2\n",
    "    Залишок грн. 26.0 повернені.\n",
    "    Яку каву бажаєте ? (мак'ято/мокко/по-віденські/глясе/): чек\n",
    "    Вода: 50мл.\n",
    "    Молоко: 90мл.\n",
    "    Кава: 80г.\n",
    "    Ціна: грн. 50\n",
    "    Яку каву бажаєте ? (мак'ято/мокко/по-віденські/глясе/): лате\n",
    "    Вибачте, кава такого типу не готується. Буде готуватися в наступному семестрі\n",
    "    Яку каву бажаєте ? (мак'ято/мокко/по-віденські/глясе/): дякую\n"
   ]
  }
 ],
 "metadata": {
  "kernelspec": {
   "display_name": "conda_python3",
   "language": "python",
   "name": "conda_python3"
  },
  "language_info": {
   "codemirror_mode": {
    "name": "ipython",
    "version": 3
   },
   "file_extension": ".py",
   "mimetype": "text/x-python",
   "name": "python",
   "nbconvert_exporter": "python",
   "pygments_lexer": "ipython3",
   "version": "3.6.13"
  }
 },
 "nbformat": 4,
 "nbformat_minor": 4
}
